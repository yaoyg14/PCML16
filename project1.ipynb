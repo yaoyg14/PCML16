{
 "cells": [
  {
   "cell_type": "code",
   "execution_count": 15,
   "metadata": {
    "collapsed": false
   },
   "outputs": [
    {
     "name": "stdout",
     "output_type": "stream",
     "text": [
      "The autoreload extension is already loaded. To reload it, use:\n",
      "  %reload_ext autoreload\n"
     ]
    }
   ],
   "source": [
    "# Useful starting lines\n",
    "%matplotlib inline\n",
    "import numpy as np\n",
    "import matplotlib.pyplot as plt\n",
    "%load_ext autoreload\n",
    "%autoreload 2"
   ]
  },
  {
   "cell_type": "markdown",
   "metadata": {},
   "source": [
    "## Load the training data into feature matrix, class labels, and event ids:"
   ]
  },
  {
   "cell_type": "code",
   "execution_count": 105,
   "metadata": {
    "collapsed": false
   },
   "outputs": [
    {
     "name": "stdout",
     "output_type": "stream",
     "text": [
      "[ True  True  True ...,  True  True  True]\n"
     ]
    }
   ],
   "source": [
    "from proj1_helpers import *\n",
    "from toolbox import *\n",
    "DATA_TRAIN_PATH = 'train.csv' # TODO: download train data and supply path here \n",
    "y, x, ids = load_csv_data(DATA_TRAIN_PATH, sub_sample=True)\n",
    "num_samples = len(y)\n",
    "tx = np.c_[np.ones(num_samples), x]"
   ]
  },
  {
   "cell_type": "markdown",
   "metadata": {},
   "source": [
    "## Do your thing crazy machine learning thing here :) ..."
   ]
  },
  {
   "cell_type": "code",
   "execution_count": 135,
   "metadata": {
    "collapsed": false
   },
   "outputs": [
    {
     "name": "stdout",
     "output_type": "stream",
     "text": [
      "(1369,)\n"
     ]
    },
    {
     "name": "stderr",
     "output_type": "stream",
     "text": [
      "C:\\Users\\Romain\\Anaconda3\\lib\\site-packages\\numpy\\lib\\function_base.py:2569: RuntimeWarning: invalid value encountered in true_divide\n",
      "  c /= stddev[:, None]\n",
      "C:\\Users\\Romain\\Anaconda3\\lib\\site-packages\\numpy\\lib\\function_base.py:2570: RuntimeWarning: invalid value encountered in true_divide\n",
      "  c /= stddev[None, :]\n"
     ]
    },
    {
     "data": {
      "text/plain": [
       "(420.39084039143768,\n",
       " array([ -3.74926286e-06,  -4.63773039e-04,  -1.31388963e-04,\n",
       "         -3.01687196e-04,  -3.87211678e-04,  -9.15938116e-06,\n",
       "         -1.34806192e-03,   3.32916119e-06,  -7.68902743e-06,\n",
       "         -9.63221064e-05,  -9.92563732e-04,  -5.29925896e-06,\n",
       "         -2.37870144e-06,  -1.82383928e-06,  -1.75075868e-04,\n",
       "          1.69317805e-07,   6.34629053e-08,  -1.90195555e-04,\n",
       "          3.22942830e-07,  -3.18507341e-07,  -1.83090879e-04,\n",
       "         -6.66476054e-07,  -1.19265648e-03,  -8.53474642e-06,\n",
       "         -3.64850509e-04,  -1.59695050e-07,   3.49968674e-07,\n",
       "         -2.01796924e-04,   4.58911177e-08,   8.09458762e-07,\n",
       "         -6.27292217e-04]))"
      ]
     },
     "execution_count": 135,
     "metadata": {},
     "output_type": "execute_result"
    },
    {
     "data": {
      "image/png": "[encoded data removed]",
      "text/plain": [
       "<matplotlib.figure.Figure at 0x9ac9f55cc0>"
      ]
     },
     "metadata": {},
     "output_type": "display_data"
    }
   ],
   "source": [
    "def plot_feature_to_output_correlations(tx, y):\n",
    "    feature_count = tx.shape[1]\n",
    "\n",
    "    corrs = np.zeros(feature_count)\n",
    "    for i in range(feature_count):\n",
    "        x = tx[:, i]\n",
    "        corrs[i] = np.corrcoef(x, y)[0][1]\n",
    "\n",
    "    fig, ax = plt.subplots()\n",
    "    width = 0.5\n",
    "\n",
    "    ax.bar(np.arange(feature_count), corrs)\n",
    "    \n",
    "def logistic_regression(y, tx, initial_w, gamma, max_iters):\n",
    "    \"\"\"Logistic regression\"\"\"\n",
    "    def logistfun(x):\n",
    "        exp = np.exp(x)\n",
    "        return exp / (1 + exp)\n",
    "    \n",
    "    def loss(y, tx, w):\n",
    "        res = 0\n",
    "        for n in range(len(y)):\n",
    "            txn_t_x_w = tx[n].T @ w\n",
    "            res += np.log(1 + np.exp(txn_t_x_w)) - y[n] * txn_t_x_w\n",
    "        return np.abs(res)\n",
    "    \n",
    "    def grad(y, tx, w):\n",
    "        return tx.T @ (logistfun(tx @ w) - y)\n",
    "    \n",
    "    return gradient_descent(y, tx, initial_w, gamma, max_iters, loss, grad)\n",
    "\n",
    "for i in range(feature_count):\n",
    "    idxes = (tx[:,i] != -999)\n",
    "    tx = tx[idxes]\n",
    "    y = y[idxes]\n",
    "\n",
    "print(y.shape)\n",
    "    \n",
    "plot_feature_to_output_correlations(tx, y)\n",
    "logistic_regression(y, tx, np.zeros(tx.shape[1]), 0.00000000001, 400)"
   ]
  },
  {
   "cell_type": "code",
   "execution_count": null,
   "metadata": {
    "collapsed": true
   },
   "outputs": [],
   "source": []
  },
  {
   "cell_type": "markdown",
   "metadata": {},
   "source": [
    "## Generate predictions and save ouput in csv format for submission:"
   ]
  },
  {
   "cell_type": "code",
   "execution_count": 10,
   "metadata": {
    "collapsed": false
   },
   "outputs": [],
   "source": [
    "DATA_TEST_PATH = '' # TODO: download train data and supply path here \n",
    "_, tX_test, ids_test = load_csv_data(DATA_TEST_PATH)"
   ]
  },
  {
   "cell_type": "code",
   "execution_count": 31,
   "metadata": {
    "collapsed": false
   },
   "outputs": [],
   "source": [
    "OUTPUT_PATH = '' # TODO: fill in desired name of output file for submission\n",
    "y_pred = predict_labels(weights, tX_test)\n",
    "create_csv_submission(ids_test, y_pred, OUTPUT_PATH)"
   ]
  },
  {
   "cell_type": "code",
   "execution_count": null,
   "metadata": {
    "collapsed": true
   },
   "outputs": [],
   "source": []
  }
 ],
 "metadata": {
  "anaconda-cloud": {},
  "kernelspec": {
   "display_name": "Python [conda root]",
   "language": "python",
   "name": "conda-root-py"
  },
  "language_info": {
   "codemirror_mode": {
    "name": "ipython",
    "version": 3
   },
   "file_extension": ".py",
   "mimetype": "text/x-python",
   "name": "python",
   "nbconvert_exporter": "python",
   "pygments_lexer": "ipython3",
   "version": "3.5.2"
  }
 },
 "nbformat": 4,
 "nbformat_minor": 0
}
