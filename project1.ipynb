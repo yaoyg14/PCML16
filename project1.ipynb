{
 "cells": [
  {
   "cell_type": "code",
   "execution_count": 10,
   "metadata": {
    "collapsed": false
   },
   "outputs": [
    {
     "name": "stdout",
     "output_type": "stream",
     "text": [
      "The autoreload extension is already loaded. To reload it, use:\n",
      "  %reload_ext autoreload\n"
     ]
    }
   ],
   "source": [
    "# Useful starting lines\n",
    "%matplotlib inline\n",
    "import numpy as np\n",
    "import matplotlib.pyplot as plt\n",
    "from scipy.special import expit\n",
    "%load_ext autoreload\n",
    "%autoreload 2"
   ]
  },
  {
   "cell_type": "markdown",
   "metadata": {},
   "source": [
    "## Load the training data into feature matrix, class labels, and event ids:"
   ]
  },
  {
   "cell_type": "code",
   "execution_count": 51,
   "metadata": {
    "collapsed": false
   },
   "outputs": [],
   "source": [
    "from proj1_helpers import *\n",
    "from toolbox import *\n",
    "DATA_TRAIN_PATH = 'train.csv' # TODO: download train data and supply path here \n",
    "init_y, init_x, ids = load_csv_data(DATA_TRAIN_PATH, sub_sample=False)\n",
    "init_y = (init_y + 1.0) * 0.5"
   ]
  },
  {
   "cell_type": "markdown",
   "metadata": {},
   "source": [
    "## Contains all our main methods\n",
    "When you add your own methods, please add a short description so that we all know what it does"
   ]
  },
  {
   "cell_type": "code",
   "execution_count": 97,
   "metadata": {
    "collapsed": false
   },
   "outputs": [],
   "source": [
    "def cropped_of_rows_with_999_value(x, y):\n",
    "    \"\"\"Returns copies of x and y such that no row contains any value = -999 anymore\"\"\"\n",
    "    for i in range(x.shape[1]):\n",
    "        idxes = (x[:, i] != -999)\n",
    "        x = x[idxes]\n",
    "        y = y[idxes]\n",
    "    return x, y\n",
    "\n",
    "def columns_with_999_value(x):\n",
    "    \"\"\"Returns the indices of all the columns which have at least one element = -999\"\"\"\n",
    "    indexes = []\n",
    "    for i in range(x.shape[1]):\n",
    "        if np.any(x[:, i] == -999.0):\n",
    "            indexes.append(i)\n",
    "    return indexes\n",
    "\n",
    "def columns_with_low_corr(x, y):\n",
    "    \"\"\"Returns the indices of the columns which have a \n",
    "       'low' correlation to the output. (Experimental)\"\"\"\n",
    "    indexes = []\n",
    "    for i in range(x.shape[1]):\n",
    "        if np.abs(np.corrcoef(x[:, i], y)[0][1]) < 0.03:\n",
    "            indexes.append(i)\n",
    "    return indexes\n",
    "\n",
    "def cropped_of_columns(x, columns_indexes):\n",
    "    \"\"\"Returns a copy of x with the columns referenced by columns_indices removed\"\"\"\n",
    "    return np.delete(x, columns_indexes, axis = 1)\n",
    "\n",
    "def augment(x, n):\n",
    "    \"\"\"Returns x concatenated with x ** 2, ..., x ** n\"\"\"\n",
    "    return x if n == 1 else np.append(augment(x, n - 1), x ** n, axis = 1)"
   ]
  },
  {
   "cell_type": "markdown",
   "metadata": {},
   "source": [
    "## Transform `x` and `y` as you want here using the functions above"
   ]
  },
  {
   "cell_type": "code",
   "execution_count": 108,
   "metadata": {
    "collapsed": false
   },
   "outputs": [
    {
     "name": "stdout",
     "output_type": "stream",
     "text": [
      "[4, 5, 6, 12, 23, 24, 25, 26, 27, 28]\n",
      "(250000, 46)\n"
     ]
    }
   ],
   "source": [
    "# Try your own transformations here\n",
    "\n",
    "# IF YOU DO TRANSFORMATIONS WHICH AFFECT THE SHAPE OF X, DON'T FORGET TO\n",
    "# MAKE THE SAME TRANSFORMATIONS ON X_TEST AT THE END\n",
    "\n",
    "rem_indices_1 = columns_with_999_value(init_x)\n",
    "rem_indices_1.remove(0)\n",
    "x = cropped_of_columns(init_x, rem_indices_1)\n",
    "\n",
    "print(rem_indices_1)\n",
    "\n",
    "x = augment(x, 6)\n",
    "\n",
    "rem_indices_2 = columns_with_low_corr(x, y) # []\n",
    "\n",
    "x, y = cropped_of_columns(x, rem_indices_2), init_y\n",
    "#x, y = cropped_of_rows_with_999_value(init_x, init_y)"
   ]
  },
  {
   "cell_type": "markdown",
   "metadata": {},
   "source": [
    "## Standardize"
   ]
  },
  {
   "cell_type": "code",
   "execution_count": null,
   "metadata": {
    "collapsed": true
   },
   "outputs": [],
   "source": [
    "tx, mean, var = standardize(x)\n",
    "\n",
    "print(tx.shape)"
   ]
  },
  {
   "cell_type": "markdown",
   "metadata": {},
   "source": [
    "## Visualizations"
   ]
  },
  {
   "cell_type": "code",
   "execution_count": 109,
   "metadata": {
    "collapsed": false
   },
   "outputs": [
    {
     "data": {
      "image/png": "[encoded data removed]",
      "text/plain": [
       "<matplotlib.figure.Figure at 0xb252ac5d30>"
      ]
     },
     "metadata": {},
     "output_type": "display_data"
    }
   ],
   "source": [
    "def plot_feature_to_output_correlations(x, y):\n",
    "    feature_count = x.shape[1]\n",
    "\n",
    "    corrs = np.zeros(feature_count)\n",
    "    for i in range(feature_count):\n",
    "        feature = x[:, i]\n",
    "        corrs[i] = np.corrcoef(feature, y)[0][1]\n",
    "\n",
    "    fig, ax = plt.subplots()\n",
    "    width = 0.5\n",
    "\n",
    "    ax.bar(np.arange(feature_count), corrs)\n",
    "\n",
    "plot_feature_to_output_correlations(x, y)"
   ]
  },
  {
   "cell_type": "code",
   "execution_count": 105,
   "metadata": {
    "collapsed": false
   },
   "outputs": [
    {
     "data": {
      "text/plain": [
       "<matplotlib.image.AxesImage at 0xb228838400>"
      ]
     },
     "execution_count": 105,
     "metadata": {},
     "output_type": "execute_result"
    },
    {
     "data": {
      "image/png": "[encoded data removed]",
      "text/plain": [
       "<matplotlib.figure.Figure at 0xb277d71160>"
      ]
     },
     "metadata": {},
     "output_type": "display_data"
    }
   ],
   "source": [
    "G = tx.T @ tx\n",
    "plt.matshow(G, cmap=plt.cm.gray)"
   ]
  },
  {
   "cell_type": "markdown",
   "metadata": {},
   "source": [
    "## Learning phase"
   ]
  },
  {
   "cell_type": "code",
   "execution_count": 114,
   "metadata": {
    "collapsed": false
   },
   "outputs": [],
   "source": [
    "loss, w = logistic_regression(y, tx, np.zeros(tx.shape[1]), 0.05, 20000)"
   ]
  },
  {
   "cell_type": "markdown",
   "metadata": {},
   "source": [
    "## Test predictions against train set output"
   ]
  },
  {
   "cell_type": "code",
   "execution_count": 118,
   "metadata": {
    "collapsed": false
   },
   "outputs": [
    {
     "data": {
      "text/plain": [
       "0.7637"
      ]
     },
     "execution_count": 118,
     "metadata": {},
     "output_type": "execute_result"
    }
   ],
   "source": [
    "y_pred_train = expit(tx @ w)\n",
    "\n",
    "y_pred_train[y_pred_train <  0.5] = 0\n",
    "y_pred_train[y_pred_train >= 0.5] = 1\n",
    "\n",
    "np.count_nonzero(y_pred_train == y) / len(y)"
   ]
  },
  {
   "cell_type": "markdown",
   "metadata": {},
   "source": [
    "## Generate predictions and save ouput in csv format for submission:"
   ]
  },
  {
   "cell_type": "code",
   "execution_count": 70,
   "metadata": {
    "collapsed": false
   },
   "outputs": [
    {
     "name": "stdout",
     "output_type": "stream",
     "text": [
      "(568238, 104)\n"
     ]
    }
   ],
   "source": [
    "DATA_TEST_PATH = 'test.csv' # TODO: download train data and supply path here \n",
    "_, init_x_test, ids_test = load_csv_data(DATA_TEST_PATH)\n",
    "\n",
    "#x_test = init_x_test\n",
    "#x_test = augment(init_x_test, 6)\n",
    "#x_test = cropped_of_columns(x_test, rem_indices_1)\n",
    "\n",
    "tx_test, _, _ = standardize(x_test, mean, var)\n",
    "\n",
    "print(tx_test.shape)"
   ]
  },
  {
   "cell_type": "code",
   "execution_count": 39,
   "metadata": {
    "collapsed": false
   },
   "outputs": [],
   "source": [
    "OUTPUT_PATH = 'out.csv' # TODO: fill in desired name of output file for submission\n",
    "y_pred = expit(tx_test @ w)\n",
    "\n",
    "y_pred[np.where(y_pred <  0.5)] = -1\n",
    "y_pred[np.where(y_pred >= 0.5)] = 1\n",
    "\n",
    "create_csv_submission(ids_test, y_pred, OUTPUT_PATH)"
   ]
  }
 ],
 "metadata": {
  "anaconda-cloud": {},
  "kernelspec": {
   "display_name": "Python [conda root]",
   "language": "python",
   "name": "conda-root-py"
  },
  "language_info": {
   "codemirror_mode": {
    "name": "ipython",
    "version": 3
   },
   "file_extension": ".py",
   "mimetype": "text/x-python",
   "name": "python",
   "nbconvert_exporter": "python",
   "pygments_lexer": "ipython3",
   "version": "3.5.2"
  }
 },
 "nbformat": 4,
 "nbformat_minor": 0
}
