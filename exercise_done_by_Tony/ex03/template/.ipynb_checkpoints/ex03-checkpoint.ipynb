{
 "cells": [
  {
   "cell_type": "code",
   "execution_count": 1,
   "metadata": {
    "collapsed": false,
    "scrolled": true
   },
   "outputs": [],
   "source": [
    "# Useful starting lines\n",
    "%matplotlib inline\n",
    "import numpy as np\n",
    "import matplotlib.pyplot as plt\n",
    "%load_ext autoreload\n",
    "%autoreload 2"
   ]
  },
  {
   "cell_type": "code",
   "execution_count": null,
   "metadata": {
    "collapsed": false
   },
   "outputs": [],
   "source": []
  },
  {
   "cell_type": "markdown",
   "metadata": {},
   "source": [
    "# Least squares and linear basis functions models\n",
    "## Least squares"
   ]
  },
  {
   "cell_type": "code",
   "execution_count": 2,
   "metadata": {
    "collapsed": true
   },
   "outputs": [],
   "source": [
    "def compute_loss(y, tx, w):\n",
    "    \"\"\"Calculate the loss.\n",
    "\n",
    "    You can calculate the loss using mse or mae.\n",
    "    \"\"\"\n",
    "    \n",
    "\n",
    "    \n",
    "    # ***************************************************\n",
    "    # INSERT YOUR CODE HERE\n",
    "    # TODO: compute loss by MSE / MAE\n",
    "    # ***************************************************\n",
    "    return 1/2/len(y) *(y-tx@ w).T @ (y-tx@ w)\n"
   ]
  },
  {
   "cell_type": "code",
   "execution_count": 3,
   "metadata": {
    "collapsed": false
   },
   "outputs": [],
   "source": [
    "def least_squares(y, tx):\n",
    "    \"\"\"calculate the least squares solution.\"\"\"\n",
    "    w=np.linalg.inv(tx.T @ tx) @ tx.T @ y\n",
    "    \n",
    "    mse=compute_loss(y,tx,w)\n",
    "    \n",
    "    return mse,w\n",
    "    \n",
    "    # ***************************************************\n",
    "    # INSERT YOUR CODE HERE\n",
    "    # least squares: TODO\n",
    "    # returns mse, and optimal weights\n",
    "    # ***************************************************"
   ]
  },
  {
   "cell_type": "markdown",
   "metadata": {},
   "source": [
    "### Load the data\n",
    "Here we will reuse the dataset `height_weight_genders.csv` from previous exercise section to check the correctness of your implementation. Please compare it with your previous result."
   ]
  },
  {
   "cell_type": "code",
   "execution_count": 4,
   "metadata": {
    "collapsed": false
   },
   "outputs": [
    {
     "data": {
      "text/plain": [
       "(15.385887868829402, array([ 73.293922  ,  13.47971243]))"
      ]
     },
     "execution_count": 4,
     "metadata": {},
     "output_type": "execute_result"
    }
   ],
   "source": [
    "from helpers import *\n",
    "def test_your_least_squares():\n",
    "    height, weight, gender = load_data_from_ex02(sub_sample=False, add_outlier=False)\n",
    "    x, mean_x, std_x = standardize(height)\n",
    "    y, tx = build_model_data(x, weight)\n",
    "    \n",
    "    return least_squares(y,tx)\n",
    "    \n",
    "    # ***************************************************\n",
    "    # INSERT YOUR CODE HERE\n",
    "    # least square or grid search: TODO\n",
    "    # this code should compare the optimal weights obtained \n",
    "    # by least squares vs. grid search\n",
    "    # ***************************************************\n",
    "    \n",
    "\n",
    "test_your_least_squares()"
   ]
  },
  {
   "cell_type": "markdown",
   "metadata": {},
   "source": [
    "## Least squares with a linear basis function model\n",
    "Start from this section, we will use the dataset `dataEx3.csv`.\n",
    "\n",
    "### Implement polynomial basis functions"
   ]
  },
  {
   "cell_type": "code",
   "execution_count": 5,
   "metadata": {
    "collapsed": false,
    "scrolled": true
   },
   "outputs": [
    {
     "name": "stdout",
     "output_type": "stream",
     "text": [
      "shape of x (50,)\n",
      "shape of y (50,)\n"
     ]
    }
   ],
   "source": [
    "# load dataset\n",
    "x, y = load_data()\n",
    "print(\"shape of x {}\".format(x.shape))\n",
    "print(\"shape of y {}\".format(y.shape))\n",
    "#print(np.concatenate((x,y),axis=0))\n",
    "\n"
   ]
  },
  {
   "cell_type": "code",
   "execution_count": 6,
   "metadata": {
    "collapsed": false
   },
   "outputs": [],
   "source": [
    "def build_poly(x, degree):\n",
    "    \"\"\"polynomial basis functions for input data x, for j=0 up to j=degree.\"\"\"\n",
    "    poly_matrix=np.zeros([len(x),degree+1])\n",
    "    for j in range (0,degree+1):\n",
    "        poly_matrix[:,j]=np.power(x[:],j)\n",
    "        \n",
    "    \n",
    "    \n",
    "    # ***************************************************\n",
    "    # INSERT YOUR CODE HERE\n",
    "    # polynomial basis function: TODO\n",
    "    # this function should return the matrix formed\n",
    "    # by applying the polynomial basis to the input data\n",
    "    # ***************************************************\n",
    "    return poly_matrix\n",
    "\n"
   ]
  },
  {
   "cell_type": "markdown",
   "metadata": {},
   "source": [
    "Let us play with polynomial regression. Note that we will use your implemented function `compute_mse`. Please copy and paste your implementation from exercise02."
   ]
  },
  {
   "cell_type": "code",
   "execution_count": 7,
   "metadata": {
    "collapsed": false
   },
   "outputs": [
    {
     "name": "stdout",
     "output_type": "stream",
     "text": [
      "Processing 1th experiment, degree=1, rmse=0.47187607963421874\n",
      "Processing 2th experiment, degree=3, rmse=0.25858277667737484\n",
      "Processing 3th experiment, degree=7, rmse=0.24965870360908243\n",
      "Processing 4th experiment, degree=12, rmse=0.9642422228523688\n"
     ]
    },
    {
     "data": {
      "image/png": "[encoded data removed]",
      "text/plain": [
       "<matplotlib.figure.Figure at 0x1061e8e48>"
      ]
     },
     "metadata": {},
     "output_type": "display_data"
    }
   ],
   "source": [
    "from plots import *\n",
    "\n",
    "def polynomial_regression():\n",
    "    \"\"\"Constructing the polynomial basis function expansion of the data,\n",
    "       and then running least squares regression.\"\"\"\n",
    "    # define parameters\n",
    "    degrees = [1, 3, 7, 12]\n",
    "    \n",
    "    # define the structure of figure\n",
    "    num_row = 2\n",
    "    num_col = 2\n",
    "    f, axs = plt.subplots(num_row, num_col)\n",
    "    for ind, degree in enumerate(degrees):\n",
    "        \n",
    "        # ***************************************************\n",
    "        # INSERT YOUR CODE HERE\n",
    "        # form the data to do polynomial regression.: TODO\n",
    "        \n",
    "        # ***************************************************\n",
    "        p=build_poly(x,degree)\n",
    "        \n",
    "        \n",
    "        # ***************************************************\n",
    "        # INSERT YOUR CODE HERE\n",
    "        # least square and calculate rmse: TODO\n",
    "        # ***************************************************\n",
    "        mse,weight=least_squares(y,p)\n",
    "        rmse=np.sqrt(2*mse)\n",
    "        \n",
    "        \n",
    "\n",
    "        print(\"Processing {i}th experiment, degree={d}, rmse={loss}\".format(\n",
    "              i=ind + 1, d=degree, loss=rmse))\n",
    "        # plot fit\n",
    "        plot_fitted_curve(\n",
    "            y, x, weight, degree, axs[ind // num_col][ind % num_col])\n",
    "    plt.tight_layout()\n",
    "    plt.savefig(\"visualize_polynomial_regression\")\n",
    "    plt.show()\n",
    "\n",
    "\n",
    "polynomial_regression()"
   ]
  },
  {
   "cell_type": "markdown",
   "metadata": {},
   "source": [
    "# Evaluating model predication performance\n",
    "\n",
    "Let us show the train and test splits for various polynomial degrees. First of all, please fill in the function `split_data()`"
   ]
  },
  {
   "cell_type": "code",
   "execution_count": 8,
   "metadata": {
    "collapsed": false
   },
   "outputs": [],
   "source": [
    "def split_data(x, y, ratio, seed=1):\n",
    "    \"\"\"split the dataset based on the split ratio.\"\"\"\n",
    "    # set seed\n",
    "    np.random.seed(seed)\n",
    "    z=np.concatenate((x,y),axis=0)\n",
    "    z=z.reshape([2,50])\n",
    "    z=z.T\n",
    "    np.random.shuffle(z.T)\n",
    "    x=z[:,0]\n",
    "    y=z[:,1]\n",
    "    Num=int(ratio*len(x))\n",
    "    test_Num=len(x)-Num\n",
    "    \n",
    "    train_x=np.zeros([Num])\n",
    "    train_y=np.zeros([Num])\n",
    "    test_x=np.zeros([test_Num])\n",
    "    test_y=np.zeros([test_Num])\n",
    "    \n",
    "    for i in range(0,Num):\n",
    "        train_x[i]=x[i]\n",
    "        train_y[i]=y[i]\n",
    "    for i in range(0,(test_Num)):\n",
    "        test_x[i]=x[i+Num]\n",
    "        test_y[i]=y[i+Num]\n",
    "    return train_x,train_y,test_x,test_y\n",
    "    # ***************************************************\n",
    "    # INSERT YOUR CODE HERE\n",
    "    # split the data based on the given ratio: TODO\n",
    "    # ***************************************************\n"
   ]
  },
  {
   "cell_type": "markdown",
   "metadata": {},
   "source": [
    "Then, test your `split_data` function below."
   ]
  },
  {
   "cell_type": "code",
   "execution_count": 9,
   "metadata": {
    "collapsed": false
   },
   "outputs": [
    {
     "name": "stdout",
     "output_type": "stream",
     "text": [
      "proportion=0.9, degree=1, Training RMSE=1.258, Testing RMSE=0.704\n",
      "proportion=0.9, degree=3, Training RMSE=1.150, Testing RMSE=0.604\n",
      "proportion=0.9, degree=7, Training RMSE=1.133, Testing RMSE=0.628\n",
      "proportion=0.9, degree=12, Training RMSE=1.076, Testing RMSE=0.651\n",
      "proportion=0.5, degree=1, Training RMSE=1.469, Testing RMSE=0.927\n",
      "proportion=0.5, degree=3, Training RMSE=1.371, Testing RMSE=0.800\n",
      "proportion=0.5, degree=7, Training RMSE=1.323, Testing RMSE=0.990\n",
      "proportion=0.5, degree=12, Training RMSE=1.278, Testing RMSE=4.896\n",
      "proportion=0.1, degree=1, Training RMSE=1.127, Testing RMSE=1.364\n",
      "proportion=0.1, degree=3, Training RMSE=0.138, Testing RMSE=3.052\n",
      "proportion=0.1, degree=7, Training RMSE=12.810, Testing RMSE=11.830\n",
      "proportion=0.1, degree=12, Training RMSE=11.252, Testing RMSE=14.063\n"
     ]
    }
   ],
   "source": [
    "def train_test_split_demo(x, y, degree, ratio, seed):\n",
    "    \"\"\"polynomial regression with different split ratios and different degrees.\"\"\"\n",
    "    # ***************************************************\n",
    "    # INSERT YOUR CODE HERE\n",
    "    # split the data, and return train and test data: TODO\n",
    "    # ***************************************************\n",
    "    train_x,train_y,test_x,test_y=split_data(x, y, ratio, seed)\n",
    "    # ***************************************************\n",
    "    # INSERT YOUR CODE HERE\n",
    "    # form train and test data with polynomial basis function: TODO\n",
    "    # ***************************************************\n",
    "    p=build_poly(train_x,degree)\n",
    "    p_t=build_poly(test_x,degree)\n",
    "    # ***************************************************\n",
    "    # INSERT YOUR CODE HERE\n",
    "    # calcualte weight through least square.: TODO\n",
    "    # ***************************************************\n",
    "    mse_tr,weight=least_squares(train_y,p)\n",
    "    mse_te=compute_loss(test_y,p_t,weight)\n",
    "    # ***************************************************\n",
    "    # INSERT YOUR CODE HERE\n",
    "    # calculate RMSE for train and test data,\n",
    "    # and store them in rmse_tr and rmse_te respectively: TODO\n",
    "    # ***************************************************\n",
    "    rmse_tr=np.sqrt(2*mse_tr)\n",
    "    rmse_te=np.sqrt(2*mse_te)\n",
    "    \n",
    "    print(\"proportion={p}, degree={d}, Training RMSE={tr:.3f}, Testing RMSE={te:.3f}\".format(\n",
    "          p=ratio, d=degree, tr=rmse_tr, te=rmse_te))\n",
    "\n",
    "seed = 6\n",
    "degrees = [1, 3, 7, 12]\n",
    "split_ratios = [0.9, 0.5, 0.1]\n",
    "\n",
    "for split_ratio in split_ratios:\n",
    "    for degree in degrees:\n",
    "        train_test_split_demo(x, y, degree, split_ratio, seed)"
   ]
  },
  {
   "cell_type": "markdown",
   "metadata": {},
   "source": [
    "# Ridge Regression\n",
    "Please fill in the function below."
   ]
  },
  {
   "cell_type": "code",
   "execution_count": 16,
   "metadata": {
    "collapsed": false
   },
   "outputs": [
    {
     "data": {
      "text/plain": [
       "(0.49172706239585751,\n",
       " array([  1.19735282e-04,   1.54438698e-04,   2.08250313e-04,\n",
       "          2.23533405e-04,   4.41140997e-05,  -4.50662745e-04,\n",
       "         -1.97169968e-04,   4.34873902e-05]))"
      ]
     },
     "execution_count": 16,
     "metadata": {},
     "output_type": "execute_result"
    }
   ],
   "source": [
    "def ridge_regression(y, tx, lamb):\n",
    "    \"\"\"implement ridge regression.\"\"\"\n",
    "    \n",
    "    # ***************************************************\n",
    "    # INSERT YOUR CODE HERE\n",
    "    # ridge regression: TODO\n",
    "    # ***************************************************\n",
    "    \n",
    "    weight=np.linalg.inv(tx.T @ tx + lamb*2*len(y)*np.eye(len(tx.T))) @ tx.T @ y\n",
    "    ridgeregression= (1/len(y)/2)*(y-tx@ weight).T @ (y-tx@ weight) +lamb* (weight.T@ weight)\n",
    "    \n",
    "    return np.sqrt(2 * ridgeregression), weight\n",
    "\n",
    "phi_for_test=build_poly(x,7)\n",
    "rmse_for_ridge_test,weight_for_test = ridge_regression(y,phi_for_test,1000)\n",
    "mse_for_normal_test,weight_for_normal_mse = least_squares(y,phi_for_test)\n",
    "rmse_for_normal_test = np.sqrt(2*mse_for_normal_test)\n",
    "rmse_for_ridge_test, weight_for_test\n",
    "#they are the same\n",
    "#rmse_for_ridge_test,weight_for_test=ridge_regression(y,phi_for_test,0)\n",
    "#rmse_for_ridge_test"
   ]
  },
  {
   "cell_type": "code",
   "execution_count": 13,
   "metadata": {
    "collapsed": false
   },
   "outputs": [
    {
     "data": {
      "image/png": "[encoded data removed]",
      "text/plain": [
       "<matplotlib.figure.Figure at 0x1113d2c18>"
      ]
     },
     "metadata": {},
     "output_type": "display_data"
    }
   ],
   "source": [
    "def ridge_regression_demo(x, y, degree, ratio, seed):\n",
    "    \"\"\"ridge regression demo.\"\"\"\n",
    "    # define parameter\n",
    "    \n",
    "    lambdas = np.logspace(-3, 1, 10)    \n",
    "    \n",
    "    # ***************************************************\n",
    "    # INSERT YOUR CODE HERE\n",
    "    # split the data, and return train and test data: TODO\n",
    "    # ***************************************************\n",
    "    \n",
    "    train_x,train_y,test_x,test_y=split_data(x, y, ratio, seed)\n",
    "    \n",
    "    # ***************************************************\n",
    "    # INSERT YOUR CODE HERE\n",
    "    # form train and test data with polynomial basis function: TODO\n",
    "    # ***************************************************\n",
    "    p=build_poly(train_x,degree)\n",
    "    p_t=build_poly(test_x,degree)\n",
    "    # ***************************************************\n",
    "    # INSERT YOUR CODE HERE\n",
    "    # ridge regression with different lambda: TODO\n",
    "    # ***************************************************\n",
    "    ut=np.zeros([10])\n",
    "    ue=np.zeros([10])\n",
    "    for ind, lamb in enumerate(lambdas):\n",
    "            ut[ind],weight=ridge_regression(train_y, p, lamb)\n",
    "        \n",
    "        ue[ind]=np.sqrt(1/len(test_y)*(test_y-p_t@ weight).T @ (test_y-p_t@ weight) +lamb* weight.T@ weight)\n",
    "        \n",
    "        \n",
    "    plt.semilogx(lambdas,ut,marker='*')\n",
    "    plt.semilogx(lambdas,ue,marker='*')\n",
    "        \n",
    "        ##blue one for train set\n",
    "        ##green one for test set\n",
    "\n",
    "\n",
    "seed = 68\n",
    "degree = 7\n",
    "split_ratio = 0.5\n",
    "ridge_regression_demo(x, y, degree, split_ratio, seed)"
   ]
  },
  {
   "cell_type": "code",
   "execution_count": null,
   "metadata": {
    "collapsed": true
   },
   "outputs": [],
   "source": []
  },
  {
   "cell_type": "code",
   "execution_count": null,
   "metadata": {
    "collapsed": true
   },
   "outputs": [],
   "source": []
  },
  {
   "cell_type": "code",
   "execution_count": null,
   "metadata": {
    "collapsed": true
   },
   "outputs": [],
   "source": []
  },
  {
   "cell_type": "code",
   "execution_count": null,
   "metadata": {
    "collapsed": true
   },
   "outputs": [],
   "source": []
  },
  {
   "cell_type": "code",
   "execution_count": null,
   "metadata": {
    "collapsed": true
   },
   "outputs": [],
   "source": []
  }
 ],
 "metadata": {
  "anaconda-cloud": {},
  "kernelspec": {
   "display_name": "Python [Root]",
   "language": "python",
   "name": "Python [Root]"
  },
  "language_info": {
   "codemirror_mode": {
    "name": "ipython",
    "version": 3
   },
   "file_extension": ".py",
   "mimetype": "text/x-python",
   "name": "python",
   "nbconvert_exporter": "python",
   "pygments_lexer": "ipython3",
   "version": "3.5.2"
  }
 },
 "nbformat": 4,
 "nbformat_minor": 0
}
