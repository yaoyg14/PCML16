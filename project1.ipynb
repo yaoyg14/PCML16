{
 "cells": [
  {
   "cell_type": "code",
   "execution_count": 1,
   "metadata": {
    "collapsed": false
   },
   "outputs": [],
   "source": [
    "# Useful starting lines\n",
    "%matplotlib inline\n",
    "import numpy as np\n",
    "import matplotlib.pyplot as plt\n",
    "%load_ext autoreload\n",
    "%autoreload 2"
   ]
  },
  {
   "cell_type": "markdown",
   "metadata": {},
   "source": [
    "## Load the training data into feature matrix, class labels, and event ids:"
   ]
  },
  {
   "cell_type": "code",
   "execution_count": 14,
   "metadata": {
    "collapsed": false
   },
   "outputs": [],
   "source": [
    "from proj1_helpers import *\n",
    "from toolbox import *\n",
    "DATA_TRAIN_PATH = 'train.csv' # TODO: download train data and supply path here \n",
    "y, x, ids = load_csv_data(DATA_TRAIN_PATH, sub_sample=True)\n",
    "y = (y + 1) * 0.5\n",
    "num_samples = len(y)\n",
    "tx, mean, var = standardize(x)"
   ]
  },
  {
   "cell_type": "markdown",
   "metadata": {},
   "source": [
    "## Do your thing crazy machine learning thing here :) ..."
   ]
  },
  {
   "cell_type": "code",
   "execution_count": 19,
   "metadata": {
    "collapsed": false
   },
   "outputs": [
    {
     "name": "stdout",
     "output_type": "stream",
     "text": [
      "(5000,)\n"
     ]
    },
    {
     "name": "stderr",
     "output_type": "stream",
     "text": [
      "C:\\Users\\Romain\\Anaconda3\\lib\\site-packages\\numpy\\lib\\function_base.py:2569: RuntimeWarning: invalid value encountered in true_divide\n",
      "  c /= stddev[:, None]\n",
      "C:\\Users\\Romain\\Anaconda3\\lib\\site-packages\\numpy\\lib\\function_base.py:2570: RuntimeWarning: invalid value encountered in true_divide\n",
      "  c /= stddev[None, :]\n"
     ]
    },
    {
     "name": "stdout",
     "output_type": "stream",
     "text": [
      "2429.98199443 [-0.96304635  0.19505986 -0.68166231 -0.79520315  0.05792588 -0.01386273\n",
      "  0.81989306 -0.03615597  0.75133655  0.01503404 -0.01349826 -0.40262103\n",
      "  0.29803414 -0.01942259  0.64352192  0.04418951 -0.00341999  0.70486356\n",
      "  0.05502454  0.03795789  0.24973754 -0.02770327 -0.28014835 -0.48293252\n",
      "  0.15032928  0.12722384  0.13107012 -0.0428552  -0.02057193 -0.02250668\n",
      " -0.29874962]\n"
     ]
    },
    {
     "data": {
      "text/plain": [
       "0.703"
      ]
     },
     "execution_count": 19,
     "metadata": {},
     "output_type": "execute_result"
    },
    {
     "data": {
      "image/png": "[encoded data removed]",
      "text/plain": [
       "<matplotlib.figure.Figure at 0x28824b9dd8>"
      ]
     },
     "metadata": {},
     "output_type": "display_data"
    }
   ],
   "source": [
    "def plot_feature_to_output_correlations(tx, y):\n",
    "    feature_count = tx.shape[1]\n",
    "\n",
    "    corrs = np.zeros(feature_count)\n",
    "    for i in range(feature_count):\n",
    "        x = tx[:, i]\n",
    "        corrs[i] = np.corrcoef(x, y)[0][1]\n",
    "\n",
    "    fig, ax = plt.subplots()\n",
    "    width = 0.5\n",
    "\n",
    "    ax.bar(np.arange(feature_count), corrs)\n",
    "\n",
    "def logistfun(x):\n",
    "    exp = np.exp(x)\n",
    "    return exp / (1 + exp)\n",
    "    \n",
    "def logistic_regression(y, tx, initial_w, gamma, max_iters):\n",
    "    \"\"\"Logistic regression\"\"\"\n",
    "    \n",
    "    def loss(y, tx, w):\n",
    "        res = 0\n",
    "        for n in range(len(y)):\n",
    "            txn_t_x_w = tx[n].T @ w\n",
    "            res += np.log(1 + np.exp(txn_t_x_w)) - y[n] * txn_t_x_w\n",
    "        return np.abs(res)\n",
    "    \n",
    "    def grad(y, tx, w):\n",
    "        return (tx.T @ (logistfun(tx @ w) - y)) / len(y)\n",
    "    \n",
    "    return gradient_descent(y, tx, initial_w, gamma, max_iters, loss, grad)\n",
    "\n",
    "feature_count = tx.shape[1]\n",
    "for i in range(feature_count):\n",
    "    idxes = (tx[:,i] != -999)\n",
    "    tx = tx[idxes]\n",
    "    y = y[idxes]\n",
    "\n",
    "print(y.shape)\n",
    "    \n",
    "plot_feature_to_output_correlations(tx, y)\n",
    "loss, w = logistic_regression(y, tx, np.zeros(tx.shape[1]), 0.1, 1000)\n",
    "print(loss, w)\n",
    "res = logistfun(tx @ w) * 2 - 1\n",
    "\n",
    "res[np.where(res < 0.5)] = 0\n",
    "res[np.where(res >= 0.5)] = 1\n",
    "\n",
    "np.count_nonzero(res == y) / len(y)"
   ]
  },
  {
   "cell_type": "code",
   "execution_count": null,
   "metadata": {
    "collapsed": true
   },
   "outputs": [],
   "source": []
  },
  {
   "cell_type": "markdown",
   "metadata": {},
   "source": [
    "## Generate predictions and save ouput in csv format for submission:"
   ]
  },
  {
   "cell_type": "code",
   "execution_count": null,
   "metadata": {
    "collapsed": false
   },
   "outputs": [],
   "source": [
    "DATA_TEST_PATH = '' # TODO: download train data and supply path here \n",
    "_, tX_test, ids_test = load_csv_data(DATA_TEST_PATH)"
   ]
  },
  {
   "cell_type": "code",
   "execution_count": null,
   "metadata": {
    "collapsed": false
   },
   "outputs": [],
   "source": [
    "OUTPUT_PATH = '' # TODO: fill in desired name of output file for submission\n",
    "y_pred = predict_labels(weights, tX_test)\n",
    "create_csv_submission(ids_test, y_pred, OUTPUT_PATH)"
   ]
  },
  {
   "cell_type": "code",
   "execution_count": null,
   "metadata": {
    "collapsed": true
   },
   "outputs": [],
   "source": []
  }
 ],
 "metadata": {
  "anaconda-cloud": {},
  "kernelspec": {
   "display_name": "Python [conda root]",
   "language": "python",
   "name": "conda-root-py"
  },
  "language_info": {
   "codemirror_mode": {
    "name": "ipython",
    "version": 3
   },
   "file_extension": ".py",
   "mimetype": "text/x-python",
   "name": "python",
   "nbconvert_exporter": "python",
   "pygments_lexer": "ipython3",
   "version": "3.5.2"
  }
 },
 "nbformat": 4,
 "nbformat_minor": 0
}
