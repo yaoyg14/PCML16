{
 "cells": [
  {
   "cell_type": "code",
   "execution_count": 108,
   "metadata": {
    "collapsed": false
   },
   "outputs": [
    {
     "name": "stdout",
     "output_type": "stream",
     "text": [
      "The autoreload extension is already loaded. To reload it, use:\n",
      "  %reload_ext autoreload\n"
     ]
    }
   ],
   "source": [
    "# Useful starting lines\n",
    "%matplotlib inline\n",
    "import numpy as np\n",
    "import matplotlib.pyplot as plt\n",
    "%load_ext autoreload\n",
    "%autoreload 2"
   ]
  },
  {
   "cell_type": "markdown",
   "metadata": {},
   "source": [
    "# Load the data"
   ]
  },
  {
   "cell_type": "code",
   "execution_count": null,
   "metadata": {
    "collapsed": false
   },
   "outputs": [],
   "source": []
  },
  {
   "cell_type": "code",
   "execution_count": 133,
   "metadata": {
    "collapsed": true
   },
   "outputs": [],
   "source": [
    "import datetime\n",
    "from helpers import *\n",
    "\n",
    "height, weight, gender = load_data(sub_sample=True, add_outlier=True)\n",
    "x, mean_x, std_x = standardize(height)\n",
    "y, tx = build_model_data(x, weight)"
   ]
  },
  {
   "cell_type": "code",
   "execution_count": null,
   "metadata": {
    "collapsed": true
   },
   "outputs": [],
   "source": []
  },
  {
   "cell_type": "code",
   "execution_count": 134,
   "metadata": {
    "collapsed": false
   },
   "outputs": [
    {
     "data": {
      "text/plain": [
       "((202,), (202, 2))"
      ]
     },
     "execution_count": 134,
     "metadata": {},
     "output_type": "execute_result"
    }
   ],
   "source": [
    "y.shape, tx.shape"
   ]
  },
  {
   "cell_type": "markdown",
   "metadata": {},
   "source": [
    "# Computing the Cost Function\n",
    "Fill in the the `compute_cost` function below:"
   ]
  },
  {
   "cell_type": "code",
   "execution_count": 135,
   "metadata": {
    "collapsed": false
   },
   "outputs": [
    {
     "data": {
      "text/plain": [
       "2776.1975189489481"
      ]
     },
     "execution_count": 135,
     "metadata": {},
     "output_type": "execute_result"
    }
   ],
   "source": [
    "def compute_loss(y, tx, w):\n",
    "    \"\"\"Calculate the loss.\n",
    "\n",
    "    You can calculate the loss using mse or mae.\n",
    "    \"\"\"\n",
    "    \n",
    "\n",
    "    \n",
    "    # ***************************************************\n",
    "    # INSERT YOUR CODE HERE\n",
    "    # TODO: compute loss by MSE / MAE\n",
    "    # ***************************************************\n",
    "    return 1/2/len(y) *(y-tx@ w).T @ (y-tx@ w)\n",
    "\n",
    "w=[1,2]\n",
    "compute_loss(y,tx,w)"
   ]
  },
  {
   "cell_type": "markdown",
   "metadata": {},
   "source": [
    "# Grid Search"
   ]
  },
  {
   "cell_type": "markdown",
   "metadata": {},
   "source": [
    "Fill in the function `grid_search()` below:"
   ]
  },
  {
   "cell_type": "code",
   "execution_count": 136,
   "metadata": {
    "collapsed": false
   },
   "outputs": [],
   "source": [
    "def grid_search(y, tx, w0, w1):\n",
    "    \"\"\"Algorithm for grid search.\"\"\"\n",
    "    \n",
    "\n",
    "    losses = np.zeros((len(w0), len(w1)))\n",
    "    \n",
    "    for i in range (0,len(w0)):\n",
    "        for j in range (0,len(w1)):\n",
    "            losses[i,j]=compute_loss(y,tx,[w0[i],w1[j]])\n",
    "    \n",
    "    \n",
    "    # ***************************************************\n",
    "    # INSERT YOUR CODE HERE\n",
    "    # TODO: compute loss for each combination of w0 and w1.\n",
    "    # ***************************************************\n",
    "    return losses"
   ]
  },
  {
   "cell_type": "markdown",
   "metadata": {},
   "source": [
    "Let us play with the grid search demo now!"
   ]
  },
  {
   "cell_type": "code",
   "execution_count": 137,
   "metadata": {
    "collapsed": false
   },
   "outputs": [
    {
     "name": "stdout",
     "output_type": "stream",
     "text": [
      "Grid Search: loss*=109.17758755205354, w0*=66.66666666666669, w1*=16.666666666666686, execution time=0.002 seconds\n"
     ]
    },
    {
     "data": {
      "image/png": "[encoded data removed]",
      "text/plain": [
       "<matplotlib.figure.Figure at 0x1700859b0>"
      ]
     },
     "metadata": {},
     "output_type": "display_data"
    }
   ],
   "source": [
    "from grid_search import generate_w, get_best_parameters\n",
    "from plots import grid_visualization\n",
    "import datetime\n",
    "\n",
    "# Generate the grid of parameters to be swept\n",
    "grid_w0, grid_w1 = generate_w(num_intervals=10)\n",
    "\n",
    "# Start the grid search\n",
    "start_time = datetime.datetime.now()\n",
    "grid_losses = grid_search(y, tx, grid_w0, grid_w1)\n",
    "\n",
    "# Select the best combinaison\n",
    "loss_star, w0_star, w1_star = get_best_parameters(grid_w0, grid_w1, grid_losses)\n",
    "end_time = datetime.datetime.now()\n",
    "execution_time = (end_time - start_time).total_seconds()\n",
    "\n",
    "# Print the results\n",
    "print(\"Grid Search: loss*={l}, w0*={w0}, w1*={w1}, execution time={t:.3f} seconds\".format(\n",
    "      l=loss_star, w0=w0_star, w1=w1_star, t=execution_time))\n",
    "\n",
    "# Plot the results\n",
    "fig = grid_visualization(grid_losses, grid_w0, grid_w1, mean_x, std_x, height, weight)\n",
    "fig.set_size_inches(10.0,6.0)\n",
    "fig.savefig(\"grid_plot\")  # Optional saving"
   ]
  },
  {
   "cell_type": "markdown",
   "metadata": {},
   "source": [
    "# Gradient Descent"
   ]
  },
  {
   "cell_type": "markdown",
   "metadata": {},
   "source": [
    "Again, please fill in the functions `compute_gradient` below:"
   ]
  },
  {
   "cell_type": "code",
   "execution_count": 138,
   "metadata": {
    "collapsed": false
   },
   "outputs": [
    {
     "data": {
      "text/plain": [
       "array([ 0.93219415,  3.96510513])"
      ]
     },
     "execution_count": 138,
     "metadata": {},
     "output_type": "execute_result"
    }
   ],
   "source": [
    "def compute_gradient(y, tx, w):\n",
    "    \"\"\"Compute the gradient.\"\"\"\n",
    "    # ***************************************************\n",
    "    # INSERT YOUR CODE HERE\n",
    "    # TODO: compute gradient and loss\n",
    "    # ***************************************************\n",
    "    \n",
    "    \n",
    "    N=len(y)\n",
    "    \n",
    "    gradient=-1/N * (tx.T)  @ (y-tx@ w)\n",
    "    return gradient\n",
    "\n",
    "compute_gradient(y,tx,[75,15])"
   ]
  },
  {
   "cell_type": "markdown",
   "metadata": {},
   "source": [
    "Please fill in the functions `gradient_descent` below:"
   ]
  },
  {
   "cell_type": "code",
   "execution_count": 139,
   "metadata": {
    "collapsed": true
   },
   "outputs": [],
   "source": [
    "def gradient_descent(y, tx, initial_w, max_iters, gamma): \n",
    "    \"\"\"Gradient descent algorithm.\"\"\"\n",
    "    # Define parameters to store w and loss\n",
    "    ws = [initial_w]\n",
    "    losses = []\n",
    "    w = initial_w\n",
    "    for n_iter in range(max_iters):\n",
    "        # ***************************************************\n",
    "        # INSERT YOUR CODE HERE\n",
    "        # TODO: compute gradient and loss\n",
    "        # ***************************************************\n",
    "        \n",
    "        loss=compute_loss(y,tx,w)\n",
    "        gradient=compute_gradient(y,tx,w)\n",
    "        \n",
    "        # ***************************************************\n",
    "        # INSERT YOUR CODE HERE\n",
    "        # TODO: update w by gradient\n",
    "        # ***************************************************\n",
    "        \n",
    "        \n",
    "        w=w-gamma*gradient\n",
    "        \n",
    "        # store w and loss\n",
    "        ws.append(np.copy(w))\n",
    "        losses.append(loss)\n",
    "        print(\"Gradient Descent({bi}/{ti}): loss={l}, w0={w0}, w1={w1}\".format(\n",
    "              bi=n_iter, ti=max_iters - 1, l=loss, w0=w[0], w1=w[1]))\n",
    "\n",
    "    return losses, ws"
   ]
  },
  {
   "cell_type": "markdown",
   "metadata": {},
   "source": [
    "Test your gradient descent function through gradient descent demo shown below:"
   ]
  },
  {
   "cell_type": "code",
   "execution_count": 140,
   "metadata": {
    "collapsed": false
   },
   "outputs": [
    {
     "name": "stdout",
     "output_type": "stream",
     "text": [
      "Gradient Descent(0/49): loss=402.70558038332433, w0=97.40678058549264, w1=10.103489486598907\n",
      "Gradient Descent(1/49): loss=338.71835882998744, w0=95.07288311243602, w1=10.196630024537923\n",
      "Gradient Descent(2/49): loss=286.88870937178456, w0=92.97237538668506, w1=10.280456508683038\n",
      "Gradient Descent(3/49): loss=244.90669331064024, w0=91.08191843350919, w1=10.355900344413643\n",
      "Gradient Descent(4/49): loss=210.9012603011132, w0=89.3805071756509, w1=10.423799796571187\n",
      "Gradient Descent(5/49): loss=183.35685956339634, w0=87.84923704357846, w1=10.484909303512977\n",
      "Gradient Descent(6/49): loss=161.04589496584572, w0=86.47109392471324, w1=10.539907859760588\n",
      "Gradient Descent(7/49): loss=142.97401364182966, w0=85.23076511773456, w1=10.589406560383438\n",
      "Gradient Descent(8/49): loss=128.33578976937673, w0=84.11446919145374, w1=10.633955390944003\n",
      "Gradient Descent(9/49): loss=116.47882843268974, w0=83.109802857801, w1=10.674049338448512\n",
      "Gradient Descent(10/49): loss=106.87468974997334, w0=82.20560315751354, w1=10.71013389120257\n",
      "Gradient Descent(11/49): loss=99.09533741697305, w0=81.39182342725482, w1=10.742609988681222\n",
      "Gradient Descent(12/49): loss=92.7940620272428, w0=80.65942167002197, w1=10.77183847641201\n",
      "Gradient Descent(13/49): loss=87.69002896156128, w0=80.0002600885124, w1=10.798144115369718\n",
      "Gradient Descent(14/49): loss=83.55576217835926, w0=79.4070146651538, w1=10.821819190431656\n",
      "Gradient Descent(15/49): loss=80.20700608396561, w0=78.87309378413106, w1=10.8431267579874\n",
      "Gradient Descent(16/49): loss=77.4945136475068, w0=78.39256499121059, w1=10.86230356878757\n",
      "Gradient Descent(17/49): loss=75.29739477397517, w0=77.96008907758217, w1=10.879562698507723\n",
      "Gradient Descent(18/49): loss=73.51772848641454, w0=77.57086075531659, w1=10.89509591525586\n",
      "Gradient Descent(19/49): loss=72.0761987934904, w0=77.22055526527757, w1=10.909075810329183\n",
      "Gradient Descent(20/49): loss=70.90855974222188, w0=76.90528032424245, w1=10.921657715895174\n",
      "Gradient Descent(21/49): loss=69.96277211069439, w0=76.62153287731084, w1=10.932981430904567\n",
      "Gradient Descent(22/49): loss=69.19668412915708, w0=76.3661601750724, w1=10.94317277441302\n",
      "Gradient Descent(23/49): loss=68.57615286411188, w0=76.1363247430578, w1=10.952344983570628\n",
      "Gradient Descent(24/49): loss=68.07352253942528, w0=75.92947285424465, w1=10.960599971812474\n",
      "Gradient Descent(25/49): loss=67.6663919764291, w0=75.74330615431282, w1=10.968029461230136\n",
      "Gradient Descent(26/49): loss=67.33661622040222, w0=75.57575612437418, w1=10.974716001706032\n",
      "Gradient Descent(27/49): loss=67.06949785802044, w0=75.4249610974294, w1=10.980733888134338\n",
      "Gradient Descent(28/49): loss=66.8531319844912, w0=75.2892455731791, w1=10.986149985919814\n",
      "Gradient Descent(29/49): loss=66.67787562693252, w0=75.16710160135383, w1=10.991024473926743\n",
      "Gradient Descent(30/49): loss=66.53591797730999, w0=75.05717202671109, w1=10.995411513132979\n",
      "Gradient Descent(31/49): loss=66.42093228111574, w0=74.95823540953262, w1=10.99935984841859\n",
      "Gradient Descent(32/49): loss=66.3277938671984, w0=74.86919245407199, w1=11.00291335017564\n",
      "Gradient Descent(33/49): loss=66.25235175192535, w0=74.78905379415743, w1=11.006111501756987\n",
      "Gradient Descent(34/49): loss=66.19124363855416, w0=74.71692900023432, w1=11.008989838180199\n",
      "Gradient Descent(35/49): loss=66.1417460667235, w0=74.65201668570352, w1=11.011580340961089\n",
      "Gradient Descent(36/49): loss=66.10165303354069, w0=74.5935956026258, w1=11.01391179346389\n",
      "Gradient Descent(37/49): loss=66.06917767666259, w0=74.54101662785585, w1=11.01601010071641\n",
      "Gradient Descent(38/49): loss=66.04287263759133, w0=74.4936955505629, w1=11.01789857724368\n",
      "Gradient Descent(39/49): loss=66.02156555594362, w0=74.45110658099925, w1=11.019598206118221\n",
      "Gradient Descent(40/49): loss=66.00430681980899, w0=74.41277650839196, w1=11.021127872105309\n",
      "Gradient Descent(41/49): loss=65.99032724353991, w0=74.3782794430454, w1=11.022504571493688\n",
      "Gradient Descent(42/49): loss=65.97900378676196, w0=74.3472320842335, w1=11.023743600943229\n",
      "Gradient Descent(43/49): loss=65.96983178677185, w0=74.31928946130279, w1=11.024858727447816\n",
      "Gradient Descent(44/49): loss=65.96240246677984, w0=74.29414110066514, w1=11.025862341301945\n",
      "Gradient Descent(45/49): loss=65.95638471758632, w0=74.27150757609127, w1=11.02676559377066\n",
      "Gradient Descent(46/49): loss=65.95151034073956, w0=74.25113740397478, w1=11.027578520992504\n",
      "Gradient Descent(47/49): loss=65.94756209549368, w0=74.23280424906994, w1=11.028310155492164\n",
      "Gradient Descent(48/49): loss=65.94436401684452, w0=74.21630440965559, w1=11.028968626541857\n",
      "Gradient Descent(49/49): loss=65.94177357313869, w0=74.20145455418267, w1=11.029561250486582\n",
      "Gradient Descent: execution time=0.003 seconds\n"
     ]
    }
   ],
   "source": [
    "from plots import gradient_descent_visualization\n",
    "\n",
    "# Define the parameters of the algorithm.\n",
    "max_iters = 50\n",
    "gamma = 0.1\n",
    "\n",
    "# Initialization\n",
    "w_initial = np.array([100.0, 10.0])\n",
    "\n",
    "# Start gradient descent.\n",
    "start_time = datetime.datetime.now()\n",
    "gradient_losses, gradient_ws = gradient_descent(y, tx, w_initial, max_iters, gamma)\n",
    "end_time = datetime.datetime.now()\n",
    "\n",
    "# Print result\n",
    "exection_time = (end_time - start_time).total_seconds()\n",
    "print(\"Gradient Descent: execution time={t:.3f} seconds\".format(t=exection_time))"
   ]
  },
  {
   "cell_type": "code",
   "execution_count": 141,
   "metadata": {
    "collapsed": false
   },
   "outputs": [
    {
     "data": {
      "text/plain": [
       "<function __main__.plot_figure>"
      ]
     },
     "execution_count": 141,
     "metadata": {},
     "output_type": "execute_result"
    },
    {
     "data": {
      "image/png": "[encoded data removed]",
      "text/plain": [
       "<matplotlib.figure.Figure at 0x16f681588>"
      ]
     },
     "metadata": {},
     "output_type": "display_data"
    }
   ],
   "source": [
    "# Time Visualization\n",
    "from ipywidgets import IntSlider, interact\n",
    "def plot_figure(n_iter):\n",
    "    fig = gradient_descent_visualization(\n",
    "        gradient_losses, gradient_ws, grid_losses, grid_w0, grid_w1, mean_x, std_x, height, weight, n_iter)\n",
    "    fig.set_size_inches(10.0, 6.0)\n",
    "\n",
    "interact(plot_figure, n_iter=IntSlider(min=1, max=len(gradient_ws)))"
   ]
  },
  {
   "cell_type": "markdown",
   "metadata": {},
   "source": [
    "# Stochastic gradient descent"
   ]
  },
  {
   "cell_type": "code",
   "execution_count": 142,
   "metadata": {
    "collapsed": false
   },
   "outputs": [],
   "source": [
    "def compute_stoch_gradient(y, tx, w):\n",
    "    \"\"\"Compute a stochastic gradient for batch data.\"\"\"\n",
    "    \n",
    "    \n",
    "    # ***************************************************\n",
    "    # INSERT YOUR CODE HERE\n",
    "    # TODO: implement stochastic gradient computation.\n",
    "    # ***************************************************\n",
    "    \n",
    "\n",
    "    stoch_gradient=compute_gradient(y,tx,w)\n",
    "    loss=compute_loss(y,tx,w)\n",
    "    return stoch_gradient,loss\n",
    "\n",
    "\n",
    "def stochastic_gradient_descent(\n",
    "        y, tx, initial_w, batch_size, max_iters, gamma):\n",
    "    \"\"\"Stochastic gradient descent algorithm.\"\"\"\n",
    "    # ***************************************************\n",
    "    # INSERT YOUR CODE HERE\n",
    "    # TODO: implement stochastic gradient descent.\n",
    "    # ***************************************************\n",
    "    \n",
    "    \n",
    "    w=initial_w\n",
    "    ws=[initial_w]\n",
    "    losses=[]\n",
    "    \n",
    "    for n_iter in range(max_iters):\n",
    "        for minibatch_y, minibatch_tx in batch_iter(y, tx, batch_size):\n",
    "            stoch_gradient,loss=compute_stoch_gradient(minibatch_y,minibatch_tx,w)\n",
    "        w=w-gamma*stoch_gradient;\n",
    "        ws.append(np.copy(w))\n",
    "        losses.append(loss)\n",
    "        \n",
    "    return losses, ws"
   ]
  },
  {
   "cell_type": "code",
   "execution_count": 143,
   "metadata": {
    "collapsed": false
   },
   "outputs": [
    {
     "name": "stdout",
     "output_type": "stream",
     "text": [
      "SGD: execution time=0.098 seconds\n"
     ]
    }
   ],
   "source": [
    "# Define the parameters of the algorithm.\n",
    "max_iters = 50\n",
    "gamma = 0.4\n",
    "batch_size = 1\n",
    "\n",
    "# Initialization\n",
    "w_initial = np.array([0.0, 0.0])\n",
    "\n",
    "# Start SGD.\n",
    "start_time = datetime.datetime.now()\n",
    "gradient_losses, gradient_ws = stochastic_gradient_descent(\n",
    "    y, tx, w_initial, batch_size, max_iters, gamma)\n",
    "end_time = datetime.datetime.now()\n",
    "\n",
    "# Print result\n",
    "exection_time = (end_time - start_time).total_seconds()\n",
    "print(\"SGD: execution time={t:.3f} seconds\".format(t=exection_time))"
   ]
  },
  {
   "cell_type": "code",
   "execution_count": 144,
   "metadata": {
    "collapsed": false
   },
   "outputs": [
    {
     "data": {
      "image/png": "[encoded data removed]",
      "text/plain": [
       "<matplotlib.figure.Figure at 0x16f392710>"
      ]
     },
     "metadata": {},
     "output_type": "display_data"
    }
   ],
   "source": [
    "# Time Visualization\n",
    "from ipywidgets import IntSlider, interact\n",
    "def plot_figure(n_iter):\n",
    "    fig = gradient_descent_visualization(\n",
    "        gradient_losses, gradient_ws, grid_losses, grid_w0, grid_w1, mean_x, std_x, height, weight, n_iter)\n",
    "    fig.set_size_inches(10.0, 6.0)\n",
    "\n",
    "interact(plot_figure, n_iter=IntSlider(min=1, max=len(gradient_ws)))"
   ]
  },
  {
   "cell_type": "code",
   "execution_count": null,
   "metadata": {
    "collapsed": true
   },
   "outputs": [],
   "source": []
  },
  {
   "cell_type": "code",
   "execution_count": null,
   "metadata": {
    "collapsed": true
   },
   "outputs": [],
   "source": []
  },
  {
   "cell_type": "code",
   "execution_count": null,
   "metadata": {
    "collapsed": true
   },
   "outputs": [],
   "source": []
  },
  {
   "cell_type": "code",
   "execution_count": null,
   "metadata": {
    "collapsed": true
   },
   "outputs": [],
   "source": []
  }
 ],
 "metadata": {
  "anaconda-cloud": {},
  "kernelspec": {
   "display_name": "Python [Root]",
   "language": "python",
   "name": "Python [Root]"
  },
  "language_info": {
   "codemirror_mode": {
    "name": "ipython",
    "version": 3
   },
   "file_extension": ".py",
   "mimetype": "text/x-python",
   "name": "python",
   "nbconvert_exporter": "python",
   "pygments_lexer": "ipython3",
   "version": "3.5.2"
  }
 },
 "nbformat": 4,
 "nbformat_minor": 0
}
