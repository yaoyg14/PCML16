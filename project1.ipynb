{
 "cells": [
  {
   "cell_type": "code",
   "execution_count": 1,
   "metadata": {
    "collapsed": false
   },
   "outputs": [],
   "source": [
    "# Useful starting lines\n",
    "%matplotlib inline\n",
    "import numpy as np\n",
    "import matplotlib.pyplot as plt\n",
    "from scipy.special import expit\n",
    "from collections import defaultdict\n",
    "%load_ext autoreload\n",
    "%autoreload 2"
   ]
  },
  {
   "cell_type": "markdown",
   "metadata": {},
   "source": [
    "## Load the training data into feature matrix, class labels, and event ids:"
   ]
  },
  {
   "cell_type": "code",
   "execution_count": null,
   "metadata": {
    "collapsed": false
   },
   "outputs": [],
   "source": [
    "from proj1_helpers import *\n",
    "from toolbox import *\n",
    "\n",
    "DATA_TRAIN_PATH = 'train.csv' # path to train set\n",
    "DATA_TEST_PATH = 'test.csv'   # path to test set\n",
    "OUTPUT_PATH = 'out.csv'       # path to output\n",
    "\n",
    "init_train_y, init_train_x, ids_train = load_csv_data(DATA_TRAIN_PATH, sub_sample=False)\n",
    "_, init_test_x, ids_test = load_csv_data(DATA_TEST_PATH)\n",
    "\n",
    "init_train_y = (init_train_y + 1.0) * 0.5"
   ]
  },
  {
   "cell_type": "markdown",
   "metadata": {},
   "source": [
    "## Utility methods\n",
    "When you add your own methods, please add a short description so that we all know what it does"
   ]
  },
  {
   "cell_type": "code",
   "execution_count": 192,
   "metadata": {
    "collapsed": false
   },
   "outputs": [],
   "source": [
    "def cropped_of_rows_with_999_value(x, y):\n",
    "    \"\"\"Returns updated x and y such that all row which contained\n",
    "       at least one value = -999 are removed\"\"\"\n",
    "    for i in range(x.shape[1]):\n",
    "        idxes = (x[:, i] != -999)\n",
    "        x = x[idxes]\n",
    "        y = y[idxes]\n",
    "    return x, y\n",
    "\n",
    "def columns_with_999_value(x):\n",
    "    \"\"\"Returns the indices of all the columns which have at least one element = -999\"\"\"\n",
    "    indexes = []\n",
    "    for i in range(x.shape[1]):\n",
    "        if np.any(x[:, i] == -999):\n",
    "            indexes.append(i)\n",
    "    return indexes\n",
    "\n",
    "def column_mean_without_999(col):\n",
    "    \"\"\"Returns the mean of the vector without taking into account values = -999\"\"\"\n",
    "    return np.mean(col[col[:] != -999])\n",
    "\n",
    "def replace_999_with(col, val):\n",
    "    \"\"\"Replaces every element = -999 with the given value\"\"\"\n",
    "    col[col[:] == -999] = val\n",
    "\n",
    "def columns_with_low_corr(x, y):\n",
    "    \"\"\"Returns the indices of the columns which have a \n",
    "       'low' correlation to the output. (Experimental)\"\"\"\n",
    "    indexes = []\n",
    "    for i in range(x.shape[1]):\n",
    "        if np.abs(np.corrcoef(x[:, i], y)[0][1]) < 0.03:\n",
    "            indexes.append(i)\n",
    "    return indexes\n",
    "\n",
    "def cropped_of_columns(x, columns_indexes):\n",
    "    \"\"\"Returns a copy of x where the columns indexed by columns_indices are removed\"\"\"\n",
    "    return np.delete(x, columns_indexes, axis = 1)\n",
    "\n",
    "def get_999_indices_tuples(x):\n",
    "    indices = defaultdict(lambda: [], {})\n",
    "    for i in range(x.shape[0]):\n",
    "        indices[tuple(x[i] == -999)].append(i)\n",
    "    return indices\n",
    "\n",
    "def augment(x, n):\n",
    "    \"\"\"Returns x concatenated with x ** 2, ..., x ** n\"\"\"\n",
    "    return x if n == 1 else np.append(augment(x, n - 1), x ** n, axis = 1)"
   ]
  },
  {
   "cell_type": "markdown",
   "metadata": {},
   "source": [
    "## Phase definitions"
   ]
  },
  {
   "cell_type": "code",
   "execution_count": 277,
   "metadata": {
    "collapsed": false
   },
   "outputs": [],
   "source": [
    "class BasePhase(object):\n",
    "    \"\"\"Base class for phases\"\"\"\n",
    "    def __init__(self, next_phase):\n",
    "        self.next_phase = next_phase\n",
    "\n",
    "class InitPhase(BasePhase):\n",
    "    \"\"\"Copies the train and test set before executing next phase\"\"\"\n",
    "    def run(self, init_train_x, init_train_y, init_test_x = None):\n",
    "        train_x, train_y = np.copy(init_train_x), np.copy(init_train_y)\n",
    "        test_x = None if init_test_x == None else np.copy(init_test_x)\n",
    "        \n",
    "        return self._run_next(train_x, train_y, test_x)\n",
    "\n",
    "class StandardizePhase(BasePhase):\n",
    "    \"\"\"Standardize the dataset\"\"\"\n",
    "    def run(self, train_x, train_y, test_x):\n",
    "        train_x, mean, var = standardize(train_x)\n",
    "        if test_x != None:\n",
    "            test_x, _, _ = standardize(test_x, mean, var)\n",
    "        \n",
    "        return self._run_next(train_x, train_y, test_x)\n",
    "\n",
    "class AugmentPhase(BasePhase):\n",
    "    \"\"\"Augments the dataset to the given degree n\"\"\"\n",
    "    def __init__(self, n, next_phase):\n",
    "        BasePhase.__init__(self, next_phase)\n",
    "        self.n = n\n",
    "        \n",
    "    def run(self, train_x, train_y, test_x):\n",
    "        train_x = augment(train_x, self.n)\n",
    "        if test_x != None:\n",
    "            test_x = augment(test_x, self.n)\n",
    "        \n",
    "        return self._run_next(train_x, train_y, test_x)\n",
    "\n",
    "class Replace999ByColumnMeanPhase(BasePhase):\n",
    "    \"\"\"Replaces cells = -999 with their respective column's mean\"\"\"\n",
    "    def run(self, train_x, train_y, test_x):\n",
    "        for i in range(train_x.shape[1]):\n",
    "            col = train_x[:, i]\n",
    "            mean = column_mean_without_999(col)\n",
    "            replace_999_with(col, mean)\n",
    "            if test_x != None:\n",
    "                col = test_x[:, i]\n",
    "                mean = column_mean_without_999(col)\n",
    "                replace_999_with(col, mean)\n",
    "\n",
    "        return self._run_next(train_x, train_y, test_x)\n",
    "\n",
    "class PlotFeatureOutputCorrelationPhase(BasePhase):\n",
    "    \"\"\"Plots feature to output correlation chart graph\"\"\"\n",
    "    def run(self, train_x, train_y, test_x):\n",
    "        feature_count = train_x.shape[1]\n",
    "\n",
    "        corrs = np.zeros(feature_count)\n",
    "        for i in range(feature_count):\n",
    "            feature = train_x[:, i]\n",
    "            corrs[i] = np.corrcoef(feature, train_y)[0][1]\n",
    "\n",
    "        fig, ax = plt.subplots()\n",
    "\n",
    "        ax.bar(np.arange(feature_count), corrs)\n",
    "        \n",
    "        return self._run_next(train_x, train_y, test_x)\n",
    "        \n",
    "class PlotGramMatrixPhase(BasePhase):\n",
    "    \"\"\"Plots the Gram matrix\"\"\"\n",
    "    def run(self, train_x, train_y, test_x):\n",
    "        G = train_x.T @ train_x\n",
    "        plt.matshow(G, cmap = plt.cm.gray)\n",
    "        \n",
    "        return self._run_next(train_x, train_y, test_x)\n",
    "    \n",
    "class TrainPredictorPhase(BasePhase):\n",
    "    \"\"\"Trains a predictor with the given train set\"\"\"\n",
    "    def __init__(self, gamma, max_iters, cross_validate, next_phase):\n",
    "        BasePhase.__init__(self, next_phase)\n",
    "        self.gamma = gamma\n",
    "        self.max_iters = max_iters\n",
    "        self.cross_validate = cross_validate\n",
    "        \n",
    "    def _build_k_indices(self, y, k_fold, seed):\n",
    "        \"\"\"build k indices for k-fold.\"\"\"\n",
    "        num_row = y.shape[0]\n",
    "        interval = int(num_row / k_fold)\n",
    "        np.random.seed(seed)\n",
    "        indices = np.random.permutation(num_row)\n",
    "        k_indices = [indices[k * interval: (k + 1) * interval] for k in range(k_fold)]\n",
    "        return np.array(k_indices)\n",
    "\n",
    "    def _cross_validation(self, y, tx, k_indices, k):\n",
    "        \"\"\"return the loss of ridge regression.\"\"\"\n",
    "        tmp_y = np.delete(y[k_indices], k, 0)\n",
    "        tmp_x = np.delete(tx[k_indices], k, 0)\n",
    "        train_y = tmp_y.reshape(tmp_y.shape[0] * tmp_y.shape[1])\n",
    "        train_x = tmp_x.reshape((tmp_x.shape[0] * tmp_x.shape[1], tmp_x.shape[2]))\n",
    "        test_y  = y[k_indices[k]]\n",
    "        test_x  = tx[k_indices[k]]\n",
    "\n",
    "        loss, w = logistic_regression(train_y, train_x, np.zeros(train_x.shape[1]), self.gamma, self.max_iters)\n",
    "\n",
    "        train_y_pred = predict(train_x, w)\n",
    "        test_y_pred  = predict(test_x,  w)\n",
    "\n",
    "        train_y_err = np.count_nonzero(train_y_pred == train_y) / len(train_y)\n",
    "        test_y_err  = np.count_nonzero(test_y_pred  == test_y ) / len(test_y)\n",
    "\n",
    "        return train_y_err, test_y_err\n",
    "\n",
    "    def run(self, train_x, train_y, test_x):\n",
    "        if self.cross_validate:\n",
    "            k_fold = 4\n",
    "            k_indices = self._build_k_indices(y, k_fold, 1)\n",
    "            print(\"Cross Validation:\")\n",
    "            for k in range(k_fold):\n",
    "                train_err, test_err = self._cross_validation(train_y, train_x, k_indices, k)\n",
    "                print(\"#%s fold: (Train error: %s, Test error: %s)\" % (k, train_err, test_err))\n",
    "\n",
    "        loss, w = logistic_regression(train_y, train_x, np.zeros(train_x.shape[1]), self.gamma, self.max_iters)\n",
    "        pred = Predictor(w)\n",
    "        \n",
    "        return self._run_next(pred, train_x, train_y, test_x)\n",
    "\n",
    "class Predictor(object):\n",
    "    def __init__(self, w):\n",
    "        self.w = w\n",
    "    \n",
    "    def predict(self, x):\n",
    "        y_pred = expit(x @ self.w)\n",
    "\n",
    "        y_pred[y_pred <  0.5] = 0\n",
    "        y_pred[y_pred >= 0.5] = 1\n",
    "\n",
    "        return y_pred"
   ]
  },
  {
   "cell_type": "markdown",
   "metadata": {},
   "source": [
    "## Pipeline definition"
   ]
  },
  {
   "cell_type": "code",
   "execution_count": 284,
   "metadata": {
    "collapsed": false
   },
   "outputs": [
    {
     "name": "stderr",
     "output_type": "stream",
     "text": [
      "C:\\Users\\Romain\\Anaconda3\\lib\\site-packages\\ipykernel\\__main__.py:13: FutureWarning: comparison to `None` will result in an elementwise object comparison in the future.\n",
      "C:\\Users\\Romain\\Anaconda3\\lib\\site-packages\\ipykernel\\__main__.py:46: FutureWarning: comparison to `None` will result in an elementwise object comparison in the future.\n",
      "C:\\Users\\Romain\\Anaconda3\\lib\\site-packages\\ipykernel\\__main__.py:34: FutureWarning: comparison to `None` will result in an elementwise object comparison in the future.\n",
      "C:\\Users\\Romain\\Anaconda3\\lib\\site-packages\\ipykernel\\__main__.py:21: FutureWarning: comparison to `None` will result in an elementwise object comparison in the future.\n"
     ]
    },
    {
     "ename": "MemoryError",
     "evalue": "",
     "output_type": "error",
     "traceback": [
      "\u001b[0;31m---------------------------------------------------------------------------\u001b[0m",
      "\u001b[0;31mMemoryError\u001b[0m                               Traceback (most recent call last)",
      "\u001b[0;32m<ipython-input-284-be298f08e3cd>\u001b[0m in \u001b[0;36m<module>\u001b[0;34m()\u001b[0m\n\u001b[1;32m     36\u001b[0m                         None))))))\n\u001b[1;32m     37\u001b[0m \u001b[1;33m\u001b[0m\u001b[0m\n\u001b[0;32m---> 38\u001b[0;31m \u001b[0mpred\u001b[0m\u001b[1;33m,\u001b[0m \u001b[0mtrain_x\u001b[0m\u001b[1;33m,\u001b[0m \u001b[0mtrain_y\u001b[0m\u001b[1;33m,\u001b[0m \u001b[0mtest_x\u001b[0m \u001b[1;33m=\u001b[0m \u001b[0mpipeline\u001b[0m\u001b[1;33m.\u001b[0m\u001b[0mrun\u001b[0m\u001b[1;33m(\u001b[0m\u001b[0minit_train_x\u001b[0m\u001b[1;33m,\u001b[0m \u001b[0minit_train_y\u001b[0m\u001b[1;33m,\u001b[0m \u001b[0minit_test_x\u001b[0m\u001b[1;33m)\u001b[0m\u001b[1;33m\u001b[0m\u001b[0m\n\u001b[0m\u001b[1;32m     39\u001b[0m \u001b[1;33m\u001b[0m\u001b[0m\n\u001b[1;32m     40\u001b[0m \u001b[0mprint\u001b[0m\u001b[1;33m(\u001b[0m\u001b[0mtrain_x\u001b[0m\u001b[1;33m.\u001b[0m\u001b[0mshape\u001b[0m\u001b[1;33m,\u001b[0m \u001b[0mtrain_y\u001b[0m\u001b[1;33m.\u001b[0m\u001b[0mshape\u001b[0m\u001b[1;33m,\u001b[0m \u001b[0mtest_x\u001b[0m\u001b[1;33m.\u001b[0m\u001b[0mshape\u001b[0m\u001b[1;33m)\u001b[0m\u001b[1;33m\u001b[0m\u001b[0m\n",
      "\u001b[0;32m<ipython-input-277-9934ef69af69>\u001b[0m in \u001b[0;36mrun\u001b[0;34m(self, init_train_x, init_train_y, init_test_x)\u001b[0m\n\u001b[1;32m     13\u001b[0m         \u001b[0mtest_x\u001b[0m \u001b[1;33m=\u001b[0m \u001b[1;32mNone\u001b[0m \u001b[1;32mif\u001b[0m \u001b[0minit_test_x\u001b[0m \u001b[1;33m==\u001b[0m \u001b[1;32mNone\u001b[0m \u001b[1;32melse\u001b[0m \u001b[0mnp\u001b[0m\u001b[1;33m.\u001b[0m\u001b[0mcopy\u001b[0m\u001b[1;33m(\u001b[0m\u001b[0minit_test_x\u001b[0m\u001b[1;33m)\u001b[0m\u001b[1;33m\u001b[0m\u001b[0m\n\u001b[1;32m     14\u001b[0m \u001b[1;33m\u001b[0m\u001b[0m\n\u001b[0;32m---> 15\u001b[0;31m         \u001b[1;32mreturn\u001b[0m \u001b[0mself\u001b[0m\u001b[1;33m.\u001b[0m\u001b[0m_run_next\u001b[0m\u001b[1;33m(\u001b[0m\u001b[0mtrain_x\u001b[0m\u001b[1;33m,\u001b[0m \u001b[0mtrain_y\u001b[0m\u001b[1;33m,\u001b[0m \u001b[0mtest_x\u001b[0m\u001b[1;33m)\u001b[0m\u001b[1;33m\u001b[0m\u001b[0m\n\u001b[0m\u001b[1;32m     16\u001b[0m \u001b[1;33m\u001b[0m\u001b[0m\n\u001b[1;32m     17\u001b[0m \u001b[1;32mclass\u001b[0m \u001b[0mStandardizePhase\u001b[0m\u001b[1;33m(\u001b[0m\u001b[0mBasePhase\u001b[0m\u001b[1;33m)\u001b[0m\u001b[1;33m:\u001b[0m\u001b[1;33m\u001b[0m\u001b[0m\n",
      "\u001b[0;32m<ipython-input-277-9934ef69af69>\u001b[0m in \u001b[0;36m_run_next\u001b[0;34m(self, *args)\u001b[0m\n\u001b[1;32m      5\u001b[0m \u001b[1;33m\u001b[0m\u001b[0m\n\u001b[1;32m      6\u001b[0m     \u001b[1;32mdef\u001b[0m \u001b[0m_run_next\u001b[0m\u001b[1;33m(\u001b[0m\u001b[0mself\u001b[0m\u001b[1;33m,\u001b[0m \u001b[1;33m*\u001b[0m\u001b[0margs\u001b[0m\u001b[1;33m)\u001b[0m\u001b[1;33m:\u001b[0m\u001b[1;33m\u001b[0m\u001b[0m\n\u001b[0;32m----> 7\u001b[0;31m         \u001b[1;32mreturn\u001b[0m \u001b[0margs\u001b[0m \u001b[1;32mif\u001b[0m \u001b[0mself\u001b[0m\u001b[1;33m.\u001b[0m\u001b[0mnext_phase\u001b[0m \u001b[1;33m==\u001b[0m \u001b[1;32mNone\u001b[0m \u001b[1;32melse\u001b[0m \u001b[0mself\u001b[0m\u001b[1;33m.\u001b[0m\u001b[0mnext_phase\u001b[0m\u001b[1;33m.\u001b[0m\u001b[0mrun\u001b[0m\u001b[1;33m(\u001b[0m\u001b[1;33m*\u001b[0m\u001b[0margs\u001b[0m\u001b[1;33m)\u001b[0m\u001b[1;33m\u001b[0m\u001b[0m\n\u001b[0m\u001b[1;32m      8\u001b[0m \u001b[1;33m\u001b[0m\u001b[0m\n\u001b[1;32m      9\u001b[0m \u001b[1;32mclass\u001b[0m \u001b[0mInitPhase\u001b[0m\u001b[1;33m(\u001b[0m\u001b[0mBasePhase\u001b[0m\u001b[1;33m)\u001b[0m\u001b[1;33m:\u001b[0m\u001b[1;33m\u001b[0m\u001b[0m\n",
      "\u001b[0;32m<ipython-input-277-9934ef69af69>\u001b[0m in \u001b[0;36mrun\u001b[0;34m(self, train_x, train_y, test_x)\u001b[0m\n\u001b[1;32m     49\u001b[0m                 \u001b[0mreplace_999_with\u001b[0m\u001b[1;33m(\u001b[0m\u001b[0mcol\u001b[0m\u001b[1;33m,\u001b[0m \u001b[0mmean\u001b[0m\u001b[1;33m)\u001b[0m\u001b[1;33m\u001b[0m\u001b[0m\n\u001b[1;32m     50\u001b[0m \u001b[1;33m\u001b[0m\u001b[0m\n\u001b[0;32m---> 51\u001b[0;31m         \u001b[1;32mreturn\u001b[0m \u001b[0mself\u001b[0m\u001b[1;33m.\u001b[0m\u001b[0m_run_next\u001b[0m\u001b[1;33m(\u001b[0m\u001b[0mtrain_x\u001b[0m\u001b[1;33m,\u001b[0m \u001b[0mtrain_y\u001b[0m\u001b[1;33m,\u001b[0m \u001b[0mtest_x\u001b[0m\u001b[1;33m)\u001b[0m\u001b[1;33m\u001b[0m\u001b[0m\n\u001b[0m\u001b[1;32m     52\u001b[0m \u001b[1;33m\u001b[0m\u001b[0m\n\u001b[1;32m     53\u001b[0m \u001b[1;32mclass\u001b[0m \u001b[0mPlotFeatureOutputCorrelationPhase\u001b[0m\u001b[1;33m(\u001b[0m\u001b[0mBasePhase\u001b[0m\u001b[1;33m)\u001b[0m\u001b[1;33m:\u001b[0m\u001b[1;33m\u001b[0m\u001b[0m\n",
      "\u001b[0;32m<ipython-input-277-9934ef69af69>\u001b[0m in \u001b[0;36m_run_next\u001b[0;34m(self, *args)\u001b[0m\n\u001b[1;32m      5\u001b[0m \u001b[1;33m\u001b[0m\u001b[0m\n\u001b[1;32m      6\u001b[0m     \u001b[1;32mdef\u001b[0m \u001b[0m_run_next\u001b[0m\u001b[1;33m(\u001b[0m\u001b[0mself\u001b[0m\u001b[1;33m,\u001b[0m \u001b[1;33m*\u001b[0m\u001b[0margs\u001b[0m\u001b[1;33m)\u001b[0m\u001b[1;33m:\u001b[0m\u001b[1;33m\u001b[0m\u001b[0m\n\u001b[0;32m----> 7\u001b[0;31m         \u001b[1;32mreturn\u001b[0m \u001b[0margs\u001b[0m \u001b[1;32mif\u001b[0m \u001b[0mself\u001b[0m\u001b[1;33m.\u001b[0m\u001b[0mnext_phase\u001b[0m \u001b[1;33m==\u001b[0m \u001b[1;32mNone\u001b[0m \u001b[1;32melse\u001b[0m \u001b[0mself\u001b[0m\u001b[1;33m.\u001b[0m\u001b[0mnext_phase\u001b[0m\u001b[1;33m.\u001b[0m\u001b[0mrun\u001b[0m\u001b[1;33m(\u001b[0m\u001b[1;33m*\u001b[0m\u001b[0margs\u001b[0m\u001b[1;33m)\u001b[0m\u001b[1;33m\u001b[0m\u001b[0m\n\u001b[0m\u001b[1;32m      8\u001b[0m \u001b[1;33m\u001b[0m\u001b[0m\n\u001b[1;32m      9\u001b[0m \u001b[1;32mclass\u001b[0m \u001b[0mInitPhase\u001b[0m\u001b[1;33m(\u001b[0m\u001b[0mBasePhase\u001b[0m\u001b[1;33m)\u001b[0m\u001b[1;33m:\u001b[0m\u001b[1;33m\u001b[0m\u001b[0m\n",
      "\u001b[0;32m<ipython-input-277-9934ef69af69>\u001b[0m in \u001b[0;36mrun\u001b[0;34m(self, train_x, train_y, test_x)\u001b[0m\n\u001b[1;32m     35\u001b[0m             \u001b[0mtest_x\u001b[0m \u001b[1;33m=\u001b[0m \u001b[0maugment\u001b[0m\u001b[1;33m(\u001b[0m\u001b[0mtest_x\u001b[0m\u001b[1;33m,\u001b[0m \u001b[0mself\u001b[0m\u001b[1;33m.\u001b[0m\u001b[0mn\u001b[0m\u001b[1;33m)\u001b[0m\u001b[1;33m\u001b[0m\u001b[0m\n\u001b[1;32m     36\u001b[0m \u001b[1;33m\u001b[0m\u001b[0m\n\u001b[0;32m---> 37\u001b[0;31m         \u001b[1;32mreturn\u001b[0m \u001b[0mself\u001b[0m\u001b[1;33m.\u001b[0m\u001b[0m_run_next\u001b[0m\u001b[1;33m(\u001b[0m\u001b[0mtrain_x\u001b[0m\u001b[1;33m,\u001b[0m \u001b[0mtrain_y\u001b[0m\u001b[1;33m,\u001b[0m \u001b[0mtest_x\u001b[0m\u001b[1;33m)\u001b[0m\u001b[1;33m\u001b[0m\u001b[0m\n\u001b[0m\u001b[1;32m     38\u001b[0m \u001b[1;33m\u001b[0m\u001b[0m\n\u001b[1;32m     39\u001b[0m \u001b[1;32mclass\u001b[0m \u001b[0mReplace999ByColumnMeanPhase\u001b[0m\u001b[1;33m(\u001b[0m\u001b[0mBasePhase\u001b[0m\u001b[1;33m)\u001b[0m\u001b[1;33m:\u001b[0m\u001b[1;33m\u001b[0m\u001b[0m\n",
      "\u001b[0;32m<ipython-input-277-9934ef69af69>\u001b[0m in \u001b[0;36m_run_next\u001b[0;34m(self, *args)\u001b[0m\n\u001b[1;32m      5\u001b[0m \u001b[1;33m\u001b[0m\u001b[0m\n\u001b[1;32m      6\u001b[0m     \u001b[1;32mdef\u001b[0m \u001b[0m_run_next\u001b[0m\u001b[1;33m(\u001b[0m\u001b[0mself\u001b[0m\u001b[1;33m,\u001b[0m \u001b[1;33m*\u001b[0m\u001b[0margs\u001b[0m\u001b[1;33m)\u001b[0m\u001b[1;33m:\u001b[0m\u001b[1;33m\u001b[0m\u001b[0m\n\u001b[0;32m----> 7\u001b[0;31m         \u001b[1;32mreturn\u001b[0m \u001b[0margs\u001b[0m \u001b[1;32mif\u001b[0m \u001b[0mself\u001b[0m\u001b[1;33m.\u001b[0m\u001b[0mnext_phase\u001b[0m \u001b[1;33m==\u001b[0m \u001b[1;32mNone\u001b[0m \u001b[1;32melse\u001b[0m \u001b[0mself\u001b[0m\u001b[1;33m.\u001b[0m\u001b[0mnext_phase\u001b[0m\u001b[1;33m.\u001b[0m\u001b[0mrun\u001b[0m\u001b[1;33m(\u001b[0m\u001b[1;33m*\u001b[0m\u001b[0margs\u001b[0m\u001b[1;33m)\u001b[0m\u001b[1;33m\u001b[0m\u001b[0m\n\u001b[0m\u001b[1;32m      8\u001b[0m \u001b[1;33m\u001b[0m\u001b[0m\n\u001b[1;32m      9\u001b[0m \u001b[1;32mclass\u001b[0m \u001b[0mInitPhase\u001b[0m\u001b[1;33m(\u001b[0m\u001b[0mBasePhase\u001b[0m\u001b[1;33m)\u001b[0m\u001b[1;33m:\u001b[0m\u001b[1;33m\u001b[0m\u001b[0m\n",
      "\u001b[0;32m<ipython-input-277-9934ef69af69>\u001b[0m in \u001b[0;36mrun\u001b[0;34m(self, train_x, train_y, test_x)\u001b[0m\n\u001b[1;32m     65\u001b[0m         \u001b[0max\u001b[0m\u001b[1;33m.\u001b[0m\u001b[0mbar\u001b[0m\u001b[1;33m(\u001b[0m\u001b[0mnp\u001b[0m\u001b[1;33m.\u001b[0m\u001b[0marange\u001b[0m\u001b[1;33m(\u001b[0m\u001b[0mfeature_count\u001b[0m\u001b[1;33m)\u001b[0m\u001b[1;33m,\u001b[0m \u001b[0mcorrs\u001b[0m\u001b[1;33m)\u001b[0m\u001b[1;33m\u001b[0m\u001b[0m\n\u001b[1;32m     66\u001b[0m \u001b[1;33m\u001b[0m\u001b[0m\n\u001b[0;32m---> 67\u001b[0;31m         \u001b[1;32mreturn\u001b[0m \u001b[0mself\u001b[0m\u001b[1;33m.\u001b[0m\u001b[0m_run_next\u001b[0m\u001b[1;33m(\u001b[0m\u001b[0mtrain_x\u001b[0m\u001b[1;33m,\u001b[0m \u001b[0mtrain_y\u001b[0m\u001b[1;33m,\u001b[0m \u001b[0mtest_x\u001b[0m\u001b[1;33m)\u001b[0m\u001b[1;33m\u001b[0m\u001b[0m\n\u001b[0m\u001b[1;32m     68\u001b[0m \u001b[1;33m\u001b[0m\u001b[0m\n\u001b[1;32m     69\u001b[0m \u001b[1;32mclass\u001b[0m \u001b[0mPlotGramMatrixPhase\u001b[0m\u001b[1;33m(\u001b[0m\u001b[0mBasePhase\u001b[0m\u001b[1;33m)\u001b[0m\u001b[1;33m:\u001b[0m\u001b[1;33m\u001b[0m\u001b[0m\n",
      "\u001b[0;32m<ipython-input-277-9934ef69af69>\u001b[0m in \u001b[0;36m_run_next\u001b[0;34m(self, *args)\u001b[0m\n\u001b[1;32m      5\u001b[0m \u001b[1;33m\u001b[0m\u001b[0m\n\u001b[1;32m      6\u001b[0m     \u001b[1;32mdef\u001b[0m \u001b[0m_run_next\u001b[0m\u001b[1;33m(\u001b[0m\u001b[0mself\u001b[0m\u001b[1;33m,\u001b[0m \u001b[1;33m*\u001b[0m\u001b[0margs\u001b[0m\u001b[1;33m)\u001b[0m\u001b[1;33m:\u001b[0m\u001b[1;33m\u001b[0m\u001b[0m\n\u001b[0;32m----> 7\u001b[0;31m         \u001b[1;32mreturn\u001b[0m \u001b[0margs\u001b[0m \u001b[1;32mif\u001b[0m \u001b[0mself\u001b[0m\u001b[1;33m.\u001b[0m\u001b[0mnext_phase\u001b[0m \u001b[1;33m==\u001b[0m \u001b[1;32mNone\u001b[0m \u001b[1;32melse\u001b[0m \u001b[0mself\u001b[0m\u001b[1;33m.\u001b[0m\u001b[0mnext_phase\u001b[0m\u001b[1;33m.\u001b[0m\u001b[0mrun\u001b[0m\u001b[1;33m(\u001b[0m\u001b[1;33m*\u001b[0m\u001b[0margs\u001b[0m\u001b[1;33m)\u001b[0m\u001b[1;33m\u001b[0m\u001b[0m\n\u001b[0m\u001b[1;32m      8\u001b[0m \u001b[1;33m\u001b[0m\u001b[0m\n\u001b[1;32m      9\u001b[0m \u001b[1;32mclass\u001b[0m \u001b[0mInitPhase\u001b[0m\u001b[1;33m(\u001b[0m\u001b[0mBasePhase\u001b[0m\u001b[1;33m)\u001b[0m\u001b[1;33m:\u001b[0m\u001b[1;33m\u001b[0m\u001b[0m\n",
      "\u001b[0;32m<ipython-input-277-9934ef69af69>\u001b[0m in \u001b[0;36mrun\u001b[0;34m(self, train_x, train_y, test_x)\u001b[0m\n\u001b[1;32m     20\u001b[0m         \u001b[0mtrain_x\u001b[0m\u001b[1;33m,\u001b[0m \u001b[0mmean\u001b[0m\u001b[1;33m,\u001b[0m \u001b[0mvar\u001b[0m \u001b[1;33m=\u001b[0m \u001b[0mstandardize\u001b[0m\u001b[1;33m(\u001b[0m\u001b[0mtrain_x\u001b[0m\u001b[1;33m)\u001b[0m\u001b[1;33m\u001b[0m\u001b[0m\n\u001b[1;32m     21\u001b[0m         \u001b[1;32mif\u001b[0m \u001b[0mtest_x\u001b[0m \u001b[1;33m!=\u001b[0m \u001b[1;32mNone\u001b[0m\u001b[1;33m:\u001b[0m\u001b[1;33m\u001b[0m\u001b[0m\n\u001b[0;32m---> 22\u001b[0;31m             \u001b[0mtest_x\u001b[0m\u001b[1;33m,\u001b[0m \u001b[0m_\u001b[0m\u001b[1;33m,\u001b[0m \u001b[0m_\u001b[0m \u001b[1;33m=\u001b[0m \u001b[0mstandardize\u001b[0m\u001b[1;33m(\u001b[0m\u001b[0mtest_x\u001b[0m\u001b[1;33m,\u001b[0m \u001b[0mmean\u001b[0m\u001b[1;33m,\u001b[0m \u001b[0mvar\u001b[0m\u001b[1;33m)\u001b[0m\u001b[1;33m\u001b[0m\u001b[0m\n\u001b[0m\u001b[1;32m     23\u001b[0m \u001b[1;33m\u001b[0m\u001b[0m\n\u001b[1;32m     24\u001b[0m         \u001b[1;32mreturn\u001b[0m \u001b[0mself\u001b[0m\u001b[1;33m.\u001b[0m\u001b[0m_run_next\u001b[0m\u001b[1;33m(\u001b[0m\u001b[0mtrain_x\u001b[0m\u001b[1;33m,\u001b[0m \u001b[0mtrain_y\u001b[0m\u001b[1;33m,\u001b[0m \u001b[0mtest_x\u001b[0m\u001b[1;33m)\u001b[0m\u001b[1;33m\u001b[0m\u001b[0m\n",
      "\u001b[0;32mD:\\Romain\\Programmation\\Python\\PCML16\\helpers.py\u001b[0m in \u001b[0;36mstandardize\u001b[0;34m(x, mean_x, std_x)\u001b[0m\n\u001b[1;32m     10\u001b[0m     \u001b[1;32mif\u001b[0m \u001b[0mstd_x\u001b[0m \u001b[1;32mis\u001b[0m \u001b[1;32mNone\u001b[0m\u001b[1;33m:\u001b[0m\u001b[1;33m\u001b[0m\u001b[0m\n\u001b[1;32m     11\u001b[0m         \u001b[0mstd_x\u001b[0m \u001b[1;33m=\u001b[0m \u001b[0mnp\u001b[0m\u001b[1;33m.\u001b[0m\u001b[0mstd\u001b[0m\u001b[1;33m(\u001b[0m\u001b[0mx\u001b[0m\u001b[1;33m,\u001b[0m \u001b[0maxis\u001b[0m\u001b[1;33m=\u001b[0m\u001b[1;36m0\u001b[0m\u001b[1;33m)\u001b[0m\u001b[1;33m\u001b[0m\u001b[0m\n\u001b[0;32m---> 12\u001b[0;31m     \u001b[0mx\u001b[0m\u001b[1;33m[\u001b[0m\u001b[1;33m:\u001b[0m\u001b[1;33m,\u001b[0m \u001b[0mstd_x\u001b[0m\u001b[1;33m>\u001b[0m\u001b[1;36m0\u001b[0m\u001b[1;33m]\u001b[0m \u001b[1;33m=\u001b[0m \u001b[0mx\u001b[0m\u001b[1;33m[\u001b[0m\u001b[1;33m:\u001b[0m\u001b[1;33m,\u001b[0m \u001b[0mstd_x\u001b[0m\u001b[1;33m>\u001b[0m\u001b[1;36m0\u001b[0m\u001b[1;33m]\u001b[0m \u001b[1;33m/\u001b[0m \u001b[0mstd_x\u001b[0m\u001b[1;33m[\u001b[0m\u001b[0mstd_x\u001b[0m\u001b[1;33m>\u001b[0m\u001b[1;36m0\u001b[0m\u001b[1;33m]\u001b[0m\u001b[1;33m\u001b[0m\u001b[0m\n\u001b[0m\u001b[1;32m     13\u001b[0m \u001b[1;33m\u001b[0m\u001b[0m\n\u001b[1;32m     14\u001b[0m     \u001b[0mtx\u001b[0m \u001b[1;33m=\u001b[0m \u001b[0mnp\u001b[0m\u001b[1;33m.\u001b[0m\u001b[0mhstack\u001b[0m\u001b[1;33m(\u001b[0m\u001b[1;33m(\u001b[0m\u001b[0mnp\u001b[0m\u001b[1;33m.\u001b[0m\u001b[0mones\u001b[0m\u001b[1;33m(\u001b[0m\u001b[1;33m(\u001b[0m\u001b[0mx\u001b[0m\u001b[1;33m.\u001b[0m\u001b[0mshape\u001b[0m\u001b[1;33m[\u001b[0m\u001b[1;36m0\u001b[0m\u001b[1;33m]\u001b[0m\u001b[1;33m,\u001b[0m\u001b[1;36m1\u001b[0m\u001b[1;33m)\u001b[0m\u001b[1;33m)\u001b[0m\u001b[1;33m,\u001b[0m \u001b[0mx\u001b[0m\u001b[1;33m)\u001b[0m\u001b[1;33m)\u001b[0m\u001b[1;33m\u001b[0m\u001b[0m\n",
      "\u001b[0;31mMemoryError\u001b[0m: "
     ]
    },
    {
     "data": {
      "image/png": "[encoded data removed]",
      "text/plain": [
       "<matplotlib.figure.Figure at 0x121690ac8>"
      ]
     },
     "metadata": {},
     "output_type": "display_data"
    }
   ],
   "source": [
    "# Try your own transformations here\n",
    "\n",
    "# IF YOU DO TRANSFORMATIONS WHICH AFFECT THE SHAPE OF X, DON'T FORGET TO\n",
    "# MAKE THE SAME TRANSFORMATIONS ON X_TEST AT THE END\n",
    "\n",
    "#rem_indices_1 = columns_with_999_value(init_x)\n",
    "#rem_indices_1.remove(0)\n",
    "#x = cropped_of_columns(init_x, rem_indices_1)\n",
    "\n",
    "#print(rem_indices_1)\n",
    "\n",
    "#rem_indices_2 = columns_with_low_corr(x, y) # []\n",
    "\n",
    "#x, y = np.copy(init_x), init_y\n",
    "\n",
    "#counts = defaultdict(lambda: [0, 0], {})\n",
    "#for i in range(x.shape[0]):\n",
    "#    counts[tuple(x[i] == -999)][int(y[i])] += 1\n",
    "#for key, val in counts.items():\n",
    "#    print(np.where(key), \" : \", val)\n",
    "\n",
    "#prdct = []\n",
    "#for col_indices, row_indices in get_999_indices_tuples(x).items():\n",
    "#    nx = np.delete(x[row_indices], np.where(col_indices), axis = 1)\n",
    "#    prdct.append(Predictor(augment(nx, 6), y[row_indices])\n",
    "    \n",
    "#x, y = cropped_of_rows_with_999_value(init_x, init_y)\n",
    "#x = augment(x, 6)\n",
    "\n",
    "pipeline = InitPhase(\n",
    "    Replace999ByColumnMeanPhase(\n",
    "        AugmentPhase(6, \n",
    "            PlotFeatureOutputCorrelationPhase(\n",
    "                StandardizePhase(\n",
    "                    TrainPredictorPhase(0.6, 70000, False, \n",
    "                        None))))))\n",
    "\n",
    "pred, train_x, train_y, test_x = pipeline.run(init_train_x, init_train_y, init_test_x)\n",
    "\n",
    "print(train_x.shape, train_y.shape, test_x.shape)"
   ]
  },
  {
   "cell_type": "markdown",
   "metadata": {},
   "source": [
    "## Test predictions against train set output"
   ]
  },
  {
   "cell_type": "code",
   "execution_count": 280,
   "metadata": {
    "collapsed": false
   },
   "outputs": [
    {
     "data": {
      "text/plain": [
       "0.8111"
      ]
     },
     "execution_count": 280,
     "metadata": {},
     "output_type": "execute_result"
    }
   ],
   "source": [
    "y_pred_train = pred.predict(train_x)\n",
    "\n",
    "np.count_nonzero(y_pred_train == train_y) / len(train_y)"
   ]
  },
  {
   "cell_type": "markdown",
   "metadata": {},
   "source": [
    "## Generate predictions and save ouput in csv format for submission:"
   ]
  },
  {
   "cell_type": "code",
   "execution_count": 281,
   "metadata": {
    "collapsed": false
   },
   "outputs": [],
   "source": [
    "#test_counts = defaultdict(lambda: 0, {})\n",
    "\n",
    "#for i in range(x_test.shape[0]):\n",
    "#    test_counts[tuple(x_test[i] == -999)] += 1\n",
    "\n",
    "#for key, val in test_counts.items():\n",
    "#    print(np.where(key), \" : \", val)\n",
    "\n",
    "#tx_test, _, _ = standardize(x_test, mean, var)\n",
    "\n",
    "#print(tx_test.shape)"
   ]
  },
  {
   "cell_type": "code",
   "execution_count": 283,
   "metadata": {
    "collapsed": false
   },
   "outputs": [],
   "source": [
    "y_pred_test = pred.predict(test_x)\n",
    "\n",
    "create_csv_submission(ids_test, y_pred_test, OUTPUT_PATH)"
   ]
  }
 ],
 "metadata": {
  "anaconda-cloud": {},
  "kernelspec": {
   "display_name": "Python [conda root]",
   "language": "python",
   "name": "conda-root-py"
  },
  "language_info": {
   "codemirror_mode": {
    "name": "ipython",
    "version": 3
   },
   "file_extension": ".py",
   "mimetype": "text/x-python",
   "name": "python",
   "nbconvert_exporter": "python",
   "pygments_lexer": "ipython3",
   "version": "3.5.2"
  }
 },
 "nbformat": 4,
 "nbformat_minor": 0
}
